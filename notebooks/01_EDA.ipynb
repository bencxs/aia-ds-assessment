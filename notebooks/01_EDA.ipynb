{
 "cells": [
  {
   "cell_type": "code",
   "execution_count": 1,
   "metadata": {},
   "outputs": [],
   "source": [
    "import sweetviz as sv\n",
    "import pandas as pd\n",
    "import numpy as np\n",
    "import os\n",
    "import sys\n",
    "import plotly.express as px\n",
    "import matplotlib.pyplot as plt\n",
    "import seaborn as sns\n",
    "\n",
    "sys.path.append( '../helper/' )\n",
    "import createbase\n",
    "import preprocess\n",
    "\n",
    "DATA_DIR = '../assessment_data/'\n",
    "ARTIFACTS_DIR = '../artifacts/'"
   ]
  },
  {
   "cell_type": "code",
   "execution_count": 2,
   "metadata": {},
   "outputs": [],
   "source": [
    "# Create the base of policies\n",
    "df_base = createbase.create_base()"
   ]
  },
  {
   "cell_type": "code",
   "execution_count": 3,
   "metadata": {},
   "outputs": [],
   "source": [
    "df_base_1 = df_base.copy()\n",
    "\n",
    "df_base_1.drop(['AGT_CHANNEL', 'AGT_STATUS', 'B', 'C', 'D', 'E', 'PROD_SUBCAT_IND_1', 'PROD_SUBCAT_IND_2'], axis=1, inplace=True)"
   ]
  },
  {
   "cell_type": "code",
   "execution_count": 4,
   "metadata": {},
   "outputs": [
    {
     "data": {
      "text/html": [
       "<div>\n",
       "<style scoped>\n",
       "    .dataframe tbody tr th:only-of-type {\n",
       "        vertical-align: middle;\n",
       "    }\n",
       "\n",
       "    .dataframe tbody tr th {\n",
       "        vertical-align: top;\n",
       "    }\n",
       "\n",
       "    .dataframe thead th {\n",
       "        text-align: right;\n",
       "    }\n",
       "</style>\n",
       "<table border=\"1\" class=\"dataframe\">\n",
       "  <thead>\n",
       "    <tr style=\"text-align: right;\">\n",
       "      <th></th>\n",
       "      <th>POLICY_NO</th>\n",
       "      <th>AGT_CD</th>\n",
       "      <th>S_BASE</th>\n",
       "      <th>RIDER_CD</th>\n",
       "      <th>COVERAGE_TYPE_IND</th>\n",
       "      <th>INS_UNIQUE_ID</th>\n",
       "      <th>PURCHASE_DT</th>\n",
       "      <th>PROD_CAT</th>\n",
       "      <th>PRODUCT_CD</th>\n",
       "      <th>ANP_RIDER</th>\n",
       "      <th>VIT_MBR_IND</th>\n",
       "      <th>MAIN_NEED</th>\n",
       "    </tr>\n",
       "  </thead>\n",
       "  <tbody>\n",
       "    <tr>\n",
       "      <th>0</th>\n",
       "      <td>1</td>\n",
       "      <td>3640</td>\n",
       "      <td>LAT</td>\n",
       "      <td>010102</td>\n",
       "      <td>R</td>\n",
       "      <td>P001664420</td>\n",
       "      <td>2020-03-26</td>\n",
       "      <td>Cat 2</td>\n",
       "      <td>ACC0</td>\n",
       "      <td>0.0</td>\n",
       "      <td>0</td>\n",
       "      <td>Critical Illness</td>\n",
       "    </tr>\n",
       "    <tr>\n",
       "      <th>1</th>\n",
       "      <td>1</td>\n",
       "      <td>3640</td>\n",
       "      <td>LAT</td>\n",
       "      <td>010103</td>\n",
       "      <td>R</td>\n",
       "      <td>P001664420</td>\n",
       "      <td>2020-03-26</td>\n",
       "      <td>Cat 2</td>\n",
       "      <td>AHI0</td>\n",
       "      <td>0.0</td>\n",
       "      <td>0</td>\n",
       "      <td>Income</td>\n",
       "    </tr>\n",
       "    <tr>\n",
       "      <th>2</th>\n",
       "      <td>1</td>\n",
       "      <td>3640</td>\n",
       "      <td>LAT</td>\n",
       "      <td>010108</td>\n",
       "      <td>R</td>\n",
       "      <td>P001664420</td>\n",
       "      <td>2020-03-26</td>\n",
       "      <td>Cat 3</td>\n",
       "      <td>VIT1</td>\n",
       "      <td>0.0</td>\n",
       "      <td>0</td>\n",
       "      <td>Life</td>\n",
       "    </tr>\n",
       "    <tr>\n",
       "      <th>3</th>\n",
       "      <td>1</td>\n",
       "      <td>3640</td>\n",
       "      <td>LAT</td>\n",
       "      <td>010200</td>\n",
       "      <td>R</td>\n",
       "      <td>P001664420</td>\n",
       "      <td>2020-03-26</td>\n",
       "      <td>Cat 3</td>\n",
       "      <td>ART0</td>\n",
       "      <td>120.0</td>\n",
       "      <td>0</td>\n",
       "      <td>Savers</td>\n",
       "    </tr>\n",
       "    <tr>\n",
       "      <th>4</th>\n",
       "      <td>1</td>\n",
       "      <td>3640</td>\n",
       "      <td>LAT</td>\n",
       "      <td>010107</td>\n",
       "      <td>R</td>\n",
       "      <td>P001664420</td>\n",
       "      <td>2020-03-26</td>\n",
       "      <td>Cat 3</td>\n",
       "      <td>ART2</td>\n",
       "      <td>0.0</td>\n",
       "      <td>0</td>\n",
       "      <td>Accident</td>\n",
       "    </tr>\n",
       "  </tbody>\n",
       "</table>\n",
       "</div>"
      ],
      "text/plain": [
       "  POLICY_NO AGT_CD S_BASE RIDER_CD COVERAGE_TYPE_IND INS_UNIQUE_ID  \\\n",
       "0         1   3640    LAT   010102                 R    P001664420   \n",
       "1         1   3640    LAT   010103                 R    P001664420   \n",
       "2         1   3640    LAT   010108                 R    P001664420   \n",
       "3         1   3640    LAT   010200                 R    P001664420   \n",
       "4         1   3640    LAT   010107                 R    P001664420   \n",
       "\n",
       "  PURCHASE_DT PROD_CAT PRODUCT_CD  ANP_RIDER  VIT_MBR_IND         MAIN_NEED  \n",
       "0  2020-03-26    Cat 2       ACC0        0.0            0  Critical Illness  \n",
       "1  2020-03-26    Cat 2       AHI0        0.0            0            Income  \n",
       "2  2020-03-26    Cat 3       VIT1        0.0            0              Life  \n",
       "3  2020-03-26    Cat 3       ART0      120.0            0            Savers  \n",
       "4  2020-03-26    Cat 3       ART2        0.0            0          Accident  "
      ]
     },
     "execution_count": 4,
     "metadata": {},
     "output_type": "execute_result"
    }
   ],
   "source": [
    "df_base_1.head()"
   ]
  },
  {
   "cell_type": "code",
   "execution_count": null,
   "metadata": {},
   "outputs": [],
   "source": [
    "# Run Sweetviz EDA\n",
    "sv_report = sv.analyze(df_base_1)\n",
    "sv_report.show_html(os.path.join(ARTIFACTS_DIR, 'sv_report_df_base.html'))"
   ]
  },
  {
   "cell_type": "markdown",
   "metadata": {},
   "source": [
    "## EDA"
   ]
  },
  {
   "cell_type": "markdown",
   "metadata": {},
   "source": [
    "Must all basic policies have > 0 ANP?\n",
    "\n",
    "Findings: There are 143 basic policies with 0 ANP. This may be valid or invalid, need further clarification."
   ]
  },
  {
   "cell_type": "code",
   "execution_count": 5,
   "metadata": {},
   "outputs": [
    {
     "name": "stdout",
     "output_type": "stream",
     "text": [
      "There are 143 basic policies with 0 ANP\n"
     ]
    }
   ],
   "source": [
    "# Must all basic policies have > 0 premium?\n",
    "df_1 = df_base_1[df_base_1['COVERAGE_TYPE_IND'] == 'B']\n",
    "\n",
    "df_1 = (df_1.groupby(['POLICY_NO'])\n",
    "    .agg(\n",
    "        TOTAL_ANP=('ANP_RIDER', 'sum')\n",
    "        )\n",
    "    )\n",
    "\n",
    "res_1 = len(df_1[df_1['TOTAL_ANP'] == 0])\n",
    "\n",
    "print(f'There are {res_1} basic policies with 0 ANP')"
   ]
  },
  {
   "cell_type": "markdown",
   "metadata": {},
   "source": [
    "Do all future dated policies have 0 ANP?\n",
    "\n",
    "Findings: Some, with the assumption that policy purchase date after 2021-03-01 are considered 'future'"
   ]
  },
  {
   "cell_type": "code",
   "execution_count": 6,
   "metadata": {},
   "outputs": [
    {
     "name": "stdout",
     "output_type": "stream",
     "text": [
      "77\n",
      "61\n"
     ]
    }
   ],
   "source": [
    "# Do all future dated policies have 0 ANP?\n",
    "df_1 = df_base_1[df_base_1['PURCHASE_DT'] >= '2021-03-01']\n",
    "\n",
    "print(len(df_1[df_1['ANP_RIDER'] == 0]))\n",
    "print(len(df_1[df_1['ANP_RIDER'] != 0]))"
   ]
  },
  {
   "cell_type": "markdown",
   "metadata": {},
   "source": [
    "Can 1 policy be handled by multiple agents?\n",
    "\n",
    "Findings: No, 1 policy tied to 1 agent only"
   ]
  },
  {
   "cell_type": "code",
   "execution_count": 7,
   "metadata": {},
   "outputs": [
    {
     "data": {
      "text/html": [
       "<div>\n",
       "<style scoped>\n",
       "    .dataframe tbody tr th:only-of-type {\n",
       "        vertical-align: middle;\n",
       "    }\n",
       "\n",
       "    .dataframe tbody tr th {\n",
       "        vertical-align: top;\n",
       "    }\n",
       "\n",
       "    .dataframe thead th {\n",
       "        text-align: right;\n",
       "    }\n",
       "</style>\n",
       "<table border=\"1\" class=\"dataframe\">\n",
       "  <thead>\n",
       "    <tr style=\"text-align: right;\">\n",
       "      <th></th>\n",
       "      <th>N_AGENTS</th>\n",
       "    </tr>\n",
       "    <tr>\n",
       "      <th>POLICY_NO</th>\n",
       "      <th></th>\n",
       "    </tr>\n",
       "  </thead>\n",
       "  <tbody>\n",
       "  </tbody>\n",
       "</table>\n",
       "</div>"
      ],
      "text/plain": [
       "Empty DataFrame\n",
       "Columns: [N_AGENTS]\n",
       "Index: []"
      ]
     },
     "execution_count": 7,
     "metadata": {},
     "output_type": "execute_result"
    }
   ],
   "source": [
    "# Can 1 policy be handled by multiple agents?\n",
    "df_1 = (df_base_1.groupby(['POLICY_NO'])\n",
    "    .agg(\n",
    "        N_AGENTS=('AGT_CD', 'nunique'),\n",
    "        )\n",
    "    )\n",
    "\n",
    "df_1[df_1['N_AGENTS'] > 1]"
   ]
  },
  {
   "cell_type": "markdown",
   "metadata": {},
   "source": [
    "Can 1 policy have multiple S_BASE tagging?\n",
    "\n",
    "Findings: No, 1 policy tied to 1 S_BASE"
   ]
  },
  {
   "cell_type": "code",
   "execution_count": 8,
   "metadata": {},
   "outputs": [
    {
     "data": {
      "text/html": [
       "<div>\n",
       "<style scoped>\n",
       "    .dataframe tbody tr th:only-of-type {\n",
       "        vertical-align: middle;\n",
       "    }\n",
       "\n",
       "    .dataframe tbody tr th {\n",
       "        vertical-align: top;\n",
       "    }\n",
       "\n",
       "    .dataframe thead th {\n",
       "        text-align: right;\n",
       "    }\n",
       "</style>\n",
       "<table border=\"1\" class=\"dataframe\">\n",
       "  <thead>\n",
       "    <tr style=\"text-align: right;\">\n",
       "      <th></th>\n",
       "      <th>N_SBASE</th>\n",
       "    </tr>\n",
       "    <tr>\n",
       "      <th>POLICY_NO</th>\n",
       "      <th></th>\n",
       "    </tr>\n",
       "  </thead>\n",
       "  <tbody>\n",
       "  </tbody>\n",
       "</table>\n",
       "</div>"
      ],
      "text/plain": [
       "Empty DataFrame\n",
       "Columns: [N_SBASE]\n",
       "Index: []"
      ]
     },
     "execution_count": 8,
     "metadata": {},
     "output_type": "execute_result"
    }
   ],
   "source": [
    "# Can 1 policy have multiple S_BASE tagging?\n",
    "df_1 = (df_base_1.groupby(['POLICY_NO'])\n",
    "    .agg(\n",
    "        N_SBASE=('S_BASE', 'nunique'),\n",
    "        )\n",
    "    )\n",
    "\n",
    "df_1[df_1['N_SBASE'] > 1]"
   ]
  },
  {
   "cell_type": "markdown",
   "metadata": {},
   "source": [
    "Next, we see a spike of policies sold alongside total ANP increase from May 2020. The surge in demand for insurance comes after Malaysia's first MCO order being lifted during the COVID pandemic."
   ]
  },
  {
   "cell_type": "code",
   "execution_count": 9,
   "metadata": {},
   "outputs": [
    {
     "name": "stderr",
     "output_type": "stream",
     "text": [
      "C:\\Users\\benja\\AppData\\Local\\Temp\\ipykernel_19552\\1224746780.py:3: SettingWithCopyWarning: \n",
      "A value is trying to be set on a copy of a slice from a DataFrame.\n",
      "Try using .loc[row_indexer,col_indexer] = value instead\n",
      "\n",
      "See the caveats in the documentation: https://pandas.pydata.org/pandas-docs/stable/user_guide/indexing.html#returning-a-view-versus-a-copy\n",
      "  df_base_2['PURCHASE_DT_1'] = df_base_2['PURCHASE_DT'].dt.strftime('%Y%m')\n"
     ]
    },
    {
     "data": {
      "application/vnd.plotly.v1+json": {
       "config": {
        "plotlyServerURL": "https://plot.ly"
       },
       "data": [
        {
         "hovertemplate": "PROD_CAT=Cat 1<br>PURCHASE_DT_1=%{x}<br>N_POLICIES=%{y}<extra></extra>",
         "legendgroup": "Cat 1",
         "line": {
          "color": "#636efa",
          "dash": "solid"
         },
         "marker": {
          "symbol": "circle"
         },
         "mode": "lines",
         "name": "Cat 1",
         "orientation": "v",
         "showlegend": true,
         "type": "scatter",
         "x": [
          "201901",
          "201902",
          "201903",
          "201904",
          "201905",
          "201906",
          "201907",
          "201908",
          "201909",
          "201910",
          "201911",
          "201912",
          "202001",
          "202002",
          "202003",
          "202004",
          "202005",
          "202006",
          "202007",
          "202008",
          "202009",
          "202010",
          "202011",
          "202012",
          "202101",
          "202102"
         ],
         "xaxis": "x",
         "y": [
          197,
          280,
          459,
          249,
          269,
          618,
          335,
          249,
          302,
          497,
          405,
          579,
          464,
          471,
          360,
          174,
          249,
          415,
          572,
          467,
          536,
          610,
          703,
          1189,
          612,
          506
         ],
         "yaxis": "y"
        },
        {
         "hovertemplate": "PROD_CAT=Cat 2<br>PURCHASE_DT_1=%{x}<br>N_POLICIES=%{y}<extra></extra>",
         "legendgroup": "Cat 2",
         "line": {
          "color": "#EF553B",
          "dash": "solid"
         },
         "marker": {
          "symbol": "circle"
         },
         "mode": "lines",
         "name": "Cat 2",
         "orientation": "v",
         "showlegend": true,
         "type": "scatter",
         "x": [
          "201901",
          "201902",
          "201903",
          "201904",
          "201905",
          "201906",
          "201907",
          "201908",
          "201909",
          "201910",
          "201911",
          "201912",
          "202001",
          "202002",
          "202003",
          "202004",
          "202005",
          "202006",
          "202007",
          "202008",
          "202009",
          "202010",
          "202011",
          "202012",
          "202101",
          "202102",
          "202103",
          "202105",
          "202106"
         ],
         "xaxis": "x",
         "y": [
          1844,
          1714,
          2360,
          2047,
          2019,
          3565,
          2163,
          1739,
          1995,
          2233,
          2050,
          2580,
          1772,
          2094,
          1899,
          1191,
          1492,
          2164,
          3115,
          3414,
          4048,
          2501,
          2366,
          3164,
          2328,
          2201,
          27,
          6,
          2
         ],
         "yaxis": "y"
        },
        {
         "hovertemplate": "PROD_CAT=Cat 3<br>PURCHASE_DT_1=%{x}<br>N_POLICIES=%{y}<extra></extra>",
         "legendgroup": "Cat 3",
         "line": {
          "color": "#00cc96",
          "dash": "solid"
         },
         "marker": {
          "symbol": "circle"
         },
         "mode": "lines",
         "name": "Cat 3",
         "orientation": "v",
         "showlegend": true,
         "type": "scatter",
         "x": [
          "201901",
          "201902",
          "201903",
          "201904",
          "201905",
          "201906",
          "201907",
          "201908",
          "201909",
          "201910",
          "201911",
          "201912",
          "202001",
          "202002",
          "202003",
          "202004",
          "202005",
          "202006",
          "202007",
          "202008",
          "202009",
          "202010",
          "202011",
          "202012",
          "202101",
          "202102",
          "202103",
          "202104",
          "202105",
          "202106",
          "202107",
          "202108",
          "202109",
          "202110",
          "202111",
          "202112",
          "202201",
          "202202",
          "202203",
          "202204"
         ],
         "xaxis": "x",
         "y": [
          2600,
          2439,
          3456,
          2849,
          2931,
          4955,
          3220,
          2661,
          2953,
          3249,
          3029,
          3691,
          2869,
          3347,
          2795,
          1696,
          5651,
          5738,
          4731,
          4834,
          4994,
          4823,
          5344,
          6625,
          5357,
          5537,
          32,
          5,
          2,
          4,
          8,
          2,
          4,
          3,
          4,
          5,
          7,
          1,
          1,
          1
         ],
         "yaxis": "y"
        }
       ],
       "layout": {
        "legend": {
         "title": {
          "text": "PROD_CAT"
         },
         "tracegroupgap": 0
        },
        "margin": {
         "t": 60
        },
        "template": {
         "data": {
          "bar": [
           {
            "error_x": {
             "color": "#2a3f5f"
            },
            "error_y": {
             "color": "#2a3f5f"
            },
            "marker": {
             "line": {
              "color": "#E5ECF6",
              "width": 0.5
             },
             "pattern": {
              "fillmode": "overlay",
              "size": 10,
              "solidity": 0.2
             }
            },
            "type": "bar"
           }
          ],
          "barpolar": [
           {
            "marker": {
             "line": {
              "color": "#E5ECF6",
              "width": 0.5
             },
             "pattern": {
              "fillmode": "overlay",
              "size": 10,
              "solidity": 0.2
             }
            },
            "type": "barpolar"
           }
          ],
          "carpet": [
           {
            "aaxis": {
             "endlinecolor": "#2a3f5f",
             "gridcolor": "white",
             "linecolor": "white",
             "minorgridcolor": "white",
             "startlinecolor": "#2a3f5f"
            },
            "baxis": {
             "endlinecolor": "#2a3f5f",
             "gridcolor": "white",
             "linecolor": "white",
             "minorgridcolor": "white",
             "startlinecolor": "#2a3f5f"
            },
            "type": "carpet"
           }
          ],
          "choropleth": [
           {
            "colorbar": {
             "outlinewidth": 0,
             "ticks": ""
            },
            "type": "choropleth"
           }
          ],
          "contour": [
           {
            "colorbar": {
             "outlinewidth": 0,
             "ticks": ""
            },
            "colorscale": [
             [
              0,
              "#0d0887"
             ],
             [
              0.1111111111111111,
              "#46039f"
             ],
             [
              0.2222222222222222,
              "#7201a8"
             ],
             [
              0.3333333333333333,
              "#9c179e"
             ],
             [
              0.4444444444444444,
              "#bd3786"
             ],
             [
              0.5555555555555556,
              "#d8576b"
             ],
             [
              0.6666666666666666,
              "#ed7953"
             ],
             [
              0.7777777777777778,
              "#fb9f3a"
             ],
             [
              0.8888888888888888,
              "#fdca26"
             ],
             [
              1,
              "#f0f921"
             ]
            ],
            "type": "contour"
           }
          ],
          "contourcarpet": [
           {
            "colorbar": {
             "outlinewidth": 0,
             "ticks": ""
            },
            "type": "contourcarpet"
           }
          ],
          "heatmap": [
           {
            "colorbar": {
             "outlinewidth": 0,
             "ticks": ""
            },
            "colorscale": [
             [
              0,
              "#0d0887"
             ],
             [
              0.1111111111111111,
              "#46039f"
             ],
             [
              0.2222222222222222,
              "#7201a8"
             ],
             [
              0.3333333333333333,
              "#9c179e"
             ],
             [
              0.4444444444444444,
              "#bd3786"
             ],
             [
              0.5555555555555556,
              "#d8576b"
             ],
             [
              0.6666666666666666,
              "#ed7953"
             ],
             [
              0.7777777777777778,
              "#fb9f3a"
             ],
             [
              0.8888888888888888,
              "#fdca26"
             ],
             [
              1,
              "#f0f921"
             ]
            ],
            "type": "heatmap"
           }
          ],
          "heatmapgl": [
           {
            "colorbar": {
             "outlinewidth": 0,
             "ticks": ""
            },
            "colorscale": [
             [
              0,
              "#0d0887"
             ],
             [
              0.1111111111111111,
              "#46039f"
             ],
             [
              0.2222222222222222,
              "#7201a8"
             ],
             [
              0.3333333333333333,
              "#9c179e"
             ],
             [
              0.4444444444444444,
              "#bd3786"
             ],
             [
              0.5555555555555556,
              "#d8576b"
             ],
             [
              0.6666666666666666,
              "#ed7953"
             ],
             [
              0.7777777777777778,
              "#fb9f3a"
             ],
             [
              0.8888888888888888,
              "#fdca26"
             ],
             [
              1,
              "#f0f921"
             ]
            ],
            "type": "heatmapgl"
           }
          ],
          "histogram": [
           {
            "marker": {
             "pattern": {
              "fillmode": "overlay",
              "size": 10,
              "solidity": 0.2
             }
            },
            "type": "histogram"
           }
          ],
          "histogram2d": [
           {
            "colorbar": {
             "outlinewidth": 0,
             "ticks": ""
            },
            "colorscale": [
             [
              0,
              "#0d0887"
             ],
             [
              0.1111111111111111,
              "#46039f"
             ],
             [
              0.2222222222222222,
              "#7201a8"
             ],
             [
              0.3333333333333333,
              "#9c179e"
             ],
             [
              0.4444444444444444,
              "#bd3786"
             ],
             [
              0.5555555555555556,
              "#d8576b"
             ],
             [
              0.6666666666666666,
              "#ed7953"
             ],
             [
              0.7777777777777778,
              "#fb9f3a"
             ],
             [
              0.8888888888888888,
              "#fdca26"
             ],
             [
              1,
              "#f0f921"
             ]
            ],
            "type": "histogram2d"
           }
          ],
          "histogram2dcontour": [
           {
            "colorbar": {
             "outlinewidth": 0,
             "ticks": ""
            },
            "colorscale": [
             [
              0,
              "#0d0887"
             ],
             [
              0.1111111111111111,
              "#46039f"
             ],
             [
              0.2222222222222222,
              "#7201a8"
             ],
             [
              0.3333333333333333,
              "#9c179e"
             ],
             [
              0.4444444444444444,
              "#bd3786"
             ],
             [
              0.5555555555555556,
              "#d8576b"
             ],
             [
              0.6666666666666666,
              "#ed7953"
             ],
             [
              0.7777777777777778,
              "#fb9f3a"
             ],
             [
              0.8888888888888888,
              "#fdca26"
             ],
             [
              1,
              "#f0f921"
             ]
            ],
            "type": "histogram2dcontour"
           }
          ],
          "mesh3d": [
           {
            "colorbar": {
             "outlinewidth": 0,
             "ticks": ""
            },
            "type": "mesh3d"
           }
          ],
          "parcoords": [
           {
            "line": {
             "colorbar": {
              "outlinewidth": 0,
              "ticks": ""
             }
            },
            "type": "parcoords"
           }
          ],
          "pie": [
           {
            "automargin": true,
            "type": "pie"
           }
          ],
          "scatter": [
           {
            "fillpattern": {
             "fillmode": "overlay",
             "size": 10,
             "solidity": 0.2
            },
            "type": "scatter"
           }
          ],
          "scatter3d": [
           {
            "line": {
             "colorbar": {
              "outlinewidth": 0,
              "ticks": ""
             }
            },
            "marker": {
             "colorbar": {
              "outlinewidth": 0,
              "ticks": ""
             }
            },
            "type": "scatter3d"
           }
          ],
          "scattercarpet": [
           {
            "marker": {
             "colorbar": {
              "outlinewidth": 0,
              "ticks": ""
             }
            },
            "type": "scattercarpet"
           }
          ],
          "scattergeo": [
           {
            "marker": {
             "colorbar": {
              "outlinewidth": 0,
              "ticks": ""
             }
            },
            "type": "scattergeo"
           }
          ],
          "scattergl": [
           {
            "marker": {
             "colorbar": {
              "outlinewidth": 0,
              "ticks": ""
             }
            },
            "type": "scattergl"
           }
          ],
          "scattermapbox": [
           {
            "marker": {
             "colorbar": {
              "outlinewidth": 0,
              "ticks": ""
             }
            },
            "type": "scattermapbox"
           }
          ],
          "scatterpolar": [
           {
            "marker": {
             "colorbar": {
              "outlinewidth": 0,
              "ticks": ""
             }
            },
            "type": "scatterpolar"
           }
          ],
          "scatterpolargl": [
           {
            "marker": {
             "colorbar": {
              "outlinewidth": 0,
              "ticks": ""
             }
            },
            "type": "scatterpolargl"
           }
          ],
          "scatterternary": [
           {
            "marker": {
             "colorbar": {
              "outlinewidth": 0,
              "ticks": ""
             }
            },
            "type": "scatterternary"
           }
          ],
          "surface": [
           {
            "colorbar": {
             "outlinewidth": 0,
             "ticks": ""
            },
            "colorscale": [
             [
              0,
              "#0d0887"
             ],
             [
              0.1111111111111111,
              "#46039f"
             ],
             [
              0.2222222222222222,
              "#7201a8"
             ],
             [
              0.3333333333333333,
              "#9c179e"
             ],
             [
              0.4444444444444444,
              "#bd3786"
             ],
             [
              0.5555555555555556,
              "#d8576b"
             ],
             [
              0.6666666666666666,
              "#ed7953"
             ],
             [
              0.7777777777777778,
              "#fb9f3a"
             ],
             [
              0.8888888888888888,
              "#fdca26"
             ],
             [
              1,
              "#f0f921"
             ]
            ],
            "type": "surface"
           }
          ],
          "table": [
           {
            "cells": {
             "fill": {
              "color": "#EBF0F8"
             },
             "line": {
              "color": "white"
             }
            },
            "header": {
             "fill": {
              "color": "#C8D4E3"
             },
             "line": {
              "color": "white"
             }
            },
            "type": "table"
           }
          ]
         },
         "layout": {
          "annotationdefaults": {
           "arrowcolor": "#2a3f5f",
           "arrowhead": 0,
           "arrowwidth": 1
          },
          "autotypenumbers": "strict",
          "coloraxis": {
           "colorbar": {
            "outlinewidth": 0,
            "ticks": ""
           }
          },
          "colorscale": {
           "diverging": [
            [
             0,
             "#8e0152"
            ],
            [
             0.1,
             "#c51b7d"
            ],
            [
             0.2,
             "#de77ae"
            ],
            [
             0.3,
             "#f1b6da"
            ],
            [
             0.4,
             "#fde0ef"
            ],
            [
             0.5,
             "#f7f7f7"
            ],
            [
             0.6,
             "#e6f5d0"
            ],
            [
             0.7,
             "#b8e186"
            ],
            [
             0.8,
             "#7fbc41"
            ],
            [
             0.9,
             "#4d9221"
            ],
            [
             1,
             "#276419"
            ]
           ],
           "sequential": [
            [
             0,
             "#0d0887"
            ],
            [
             0.1111111111111111,
             "#46039f"
            ],
            [
             0.2222222222222222,
             "#7201a8"
            ],
            [
             0.3333333333333333,
             "#9c179e"
            ],
            [
             0.4444444444444444,
             "#bd3786"
            ],
            [
             0.5555555555555556,
             "#d8576b"
            ],
            [
             0.6666666666666666,
             "#ed7953"
            ],
            [
             0.7777777777777778,
             "#fb9f3a"
            ],
            [
             0.8888888888888888,
             "#fdca26"
            ],
            [
             1,
             "#f0f921"
            ]
           ],
           "sequentialminus": [
            [
             0,
             "#0d0887"
            ],
            [
             0.1111111111111111,
             "#46039f"
            ],
            [
             0.2222222222222222,
             "#7201a8"
            ],
            [
             0.3333333333333333,
             "#9c179e"
            ],
            [
             0.4444444444444444,
             "#bd3786"
            ],
            [
             0.5555555555555556,
             "#d8576b"
            ],
            [
             0.6666666666666666,
             "#ed7953"
            ],
            [
             0.7777777777777778,
             "#fb9f3a"
            ],
            [
             0.8888888888888888,
             "#fdca26"
            ],
            [
             1,
             "#f0f921"
            ]
           ]
          },
          "colorway": [
           "#636efa",
           "#EF553B",
           "#00cc96",
           "#ab63fa",
           "#FFA15A",
           "#19d3f3",
           "#FF6692",
           "#B6E880",
           "#FF97FF",
           "#FECB52"
          ],
          "font": {
           "color": "#2a3f5f"
          },
          "geo": {
           "bgcolor": "white",
           "lakecolor": "white",
           "landcolor": "#E5ECF6",
           "showlakes": true,
           "showland": true,
           "subunitcolor": "white"
          },
          "hoverlabel": {
           "align": "left"
          },
          "hovermode": "closest",
          "mapbox": {
           "style": "light"
          },
          "paper_bgcolor": "white",
          "plot_bgcolor": "#E5ECF6",
          "polar": {
           "angularaxis": {
            "gridcolor": "white",
            "linecolor": "white",
            "ticks": ""
           },
           "bgcolor": "#E5ECF6",
           "radialaxis": {
            "gridcolor": "white",
            "linecolor": "white",
            "ticks": ""
           }
          },
          "scene": {
           "xaxis": {
            "backgroundcolor": "#E5ECF6",
            "gridcolor": "white",
            "gridwidth": 2,
            "linecolor": "white",
            "showbackground": true,
            "ticks": "",
            "zerolinecolor": "white"
           },
           "yaxis": {
            "backgroundcolor": "#E5ECF6",
            "gridcolor": "white",
            "gridwidth": 2,
            "linecolor": "white",
            "showbackground": true,
            "ticks": "",
            "zerolinecolor": "white"
           },
           "zaxis": {
            "backgroundcolor": "#E5ECF6",
            "gridcolor": "white",
            "gridwidth": 2,
            "linecolor": "white",
            "showbackground": true,
            "ticks": "",
            "zerolinecolor": "white"
           }
          },
          "shapedefaults": {
           "line": {
            "color": "#2a3f5f"
           }
          },
          "ternary": {
           "aaxis": {
            "gridcolor": "white",
            "linecolor": "white",
            "ticks": ""
           },
           "baxis": {
            "gridcolor": "white",
            "linecolor": "white",
            "ticks": ""
           },
           "bgcolor": "#E5ECF6",
           "caxis": {
            "gridcolor": "white",
            "linecolor": "white",
            "ticks": ""
           }
          },
          "title": {
           "x": 0.05
          },
          "xaxis": {
           "automargin": true,
           "gridcolor": "white",
           "linecolor": "white",
           "ticks": "",
           "title": {
            "standoff": 15
           },
           "zerolinecolor": "white",
           "zerolinewidth": 2
          },
          "yaxis": {
           "automargin": true,
           "gridcolor": "white",
           "linecolor": "white",
           "ticks": "",
           "title": {
            "standoff": 15
           },
           "zerolinecolor": "white",
           "zerolinewidth": 2
          }
         }
        },
        "xaxis": {
         "anchor": "y",
         "domain": [
          0,
          1
         ],
         "title": {
          "text": "PURCHASE_DT_1"
         }
        },
        "yaxis": {
         "anchor": "x",
         "domain": [
          0,
          1
         ],
         "title": {
          "text": "N_POLICIES"
         }
        }
       }
      }
     },
     "metadata": {},
     "output_type": "display_data"
    }
   ],
   "source": [
    "# Sales trend of Product Category by purchase date\n",
    "df_base_2 = df_base_1[df_base_1['PURCHASE_DT'] < '2022-07-01']\n",
    "df_base_2['PURCHASE_DT_1'] = df_base_2['PURCHASE_DT'].dt.strftime('%Y%m')\n",
    "\n",
    "df_base_3 = (df_base_2.groupby(['PROD_CAT', 'PURCHASE_DT_1'])\n",
    "                .agg(\n",
    "                    N_POLICIES=('POLICY_NO', 'nunique'),\n",
    "                    TOTAL_ANP=('ANP_RIDER', 'sum')\n",
    "                    )\n",
    "                .reset_index()\n",
    "             )\n",
    "\n",
    "fig = px.line(df_base_3, x=\"PURCHASE_DT_1\", y=\"N_POLICIES\", color=\"PROD_CAT\")\n",
    "fig.show()"
   ]
  },
  {
   "cell_type": "code",
   "execution_count": 10,
   "metadata": {},
   "outputs": [
    {
     "data": {
      "application/vnd.plotly.v1+json": {
       "config": {
        "plotlyServerURL": "https://plot.ly"
       },
       "data": [
        {
         "hovertemplate": "PROD_CAT=Cat 1<br>PURCHASE_DT_1=%{x}<br>TOTAL_ANP=%{y}<extra></extra>",
         "legendgroup": "Cat 1",
         "line": {
          "color": "#636efa",
          "dash": "solid"
         },
         "marker": {
          "symbol": "circle"
         },
         "mode": "lines",
         "name": "Cat 1",
         "orientation": "v",
         "showlegend": true,
         "type": "scatter",
         "x": [
          "201901",
          "201902",
          "201903",
          "201904",
          "201905",
          "201906",
          "201907",
          "201908",
          "201909",
          "201910",
          "201911",
          "201912",
          "202001",
          "202002",
          "202003",
          "202004",
          "202005",
          "202006",
          "202007",
          "202008",
          "202009",
          "202010",
          "202011",
          "202012",
          "202101",
          "202102"
         ],
         "xaxis": "x",
         "y": [
          203748.703125,
          317616.40625,
          405785.28125,
          213456.421875,
          241673.796875,
          527083.6875,
          279235.59375,
          212588.28125,
          270999.28125,
          449605.78125,
          406356.53125,
          497335.5,
          440455.90625,
          377823.4375,
          242911.859375,
          102861.796875,
          164861.34375,
          343671.125,
          509628.53125,
          474890.53125,
          547471.125,
          679783.9375,
          633962.3125,
          892911.4375,
          459107.53125,
          337108.96875
         ],
         "yaxis": "y"
        },
        {
         "hovertemplate": "PROD_CAT=Cat 2<br>PURCHASE_DT_1=%{x}<br>TOTAL_ANP=%{y}<extra></extra>",
         "legendgroup": "Cat 2",
         "line": {
          "color": "#EF553B",
          "dash": "solid"
         },
         "marker": {
          "symbol": "circle"
         },
         "mode": "lines",
         "name": "Cat 2",
         "orientation": "v",
         "showlegend": true,
         "type": "scatter",
         "x": [
          "201901",
          "201902",
          "201903",
          "201904",
          "201905",
          "201906",
          "201907",
          "201908",
          "201909",
          "201910",
          "201911",
          "201912",
          "202001",
          "202002",
          "202003",
          "202004",
          "202005",
          "202006",
          "202007",
          "202008",
          "202009",
          "202010",
          "202011",
          "202012",
          "202101",
          "202102",
          "202103",
          "202105",
          "202106"
         ],
         "xaxis": "x",
         "y": [
          153222.734375,
          163608.984375,
          229808.8125,
          178739.609375,
          169560.28125,
          286445.40625,
          202361.0625,
          168102.125,
          170343.796875,
          214279.765625,
          224458.875,
          269867.03125,
          125061.890625,
          136353.625,
          130293.4296875,
          85691,
          96046.453125,
          140943.171875,
          303838.78125,
          345457,
          450008.9375,
          252823.9375,
          214679.671875,
          216303.953125,
          187155.890625,
          183925.296875,
          396.5,
          272.3999938964844,
          151.3000030517578
         ],
         "yaxis": "y"
        },
        {
         "hovertemplate": "PROD_CAT=Cat 3<br>PURCHASE_DT_1=%{x}<br>TOTAL_ANP=%{y}<extra></extra>",
         "legendgroup": "Cat 3",
         "line": {
          "color": "#00cc96",
          "dash": "solid"
         },
         "marker": {
          "symbol": "circle"
         },
         "mode": "lines",
         "name": "Cat 3",
         "orientation": "v",
         "showlegend": true,
         "type": "scatter",
         "x": [
          "201901",
          "201902",
          "201903",
          "201904",
          "201905",
          "201906",
          "201907",
          "201908",
          "201909",
          "201910",
          "201911",
          "201912",
          "202001",
          "202002",
          "202003",
          "202004",
          "202005",
          "202006",
          "202007",
          "202008",
          "202009",
          "202010",
          "202011",
          "202012",
          "202101",
          "202102",
          "202103",
          "202104",
          "202105",
          "202106",
          "202107",
          "202108",
          "202109",
          "202110",
          "202111",
          "202112",
          "202201",
          "202202",
          "202203",
          "202204"
         ],
         "xaxis": "x",
         "y": [
          703612.3125,
          652031.375,
          926901.875,
          780314.5,
          804157.8125,
          1347192,
          925587.0625,
          674323.4375,
          777404.6875,
          901090.75,
          813458.875,
          1056450.875,
          890923.4375,
          949052.8125,
          637823.375,
          387458.90625,
          691005.6875,
          1002703.375,
          1223377.875,
          1098095.125,
          1184164.25,
          1123847.75,
          1244880.875,
          1929379,
          1219817.5,
          1321173.625,
          2237.39990234375,
          4536,
          147.60000610351562,
          255,
          145,
          40,
          20,
          73.5999984741211,
          15,
          12,
          48,
          120,
          80.4000015258789,
          0
         ],
         "yaxis": "y"
        }
       ],
       "layout": {
        "legend": {
         "title": {
          "text": "PROD_CAT"
         },
         "tracegroupgap": 0
        },
        "margin": {
         "t": 60
        },
        "template": {
         "data": {
          "bar": [
           {
            "error_x": {
             "color": "#2a3f5f"
            },
            "error_y": {
             "color": "#2a3f5f"
            },
            "marker": {
             "line": {
              "color": "#E5ECF6",
              "width": 0.5
             },
             "pattern": {
              "fillmode": "overlay",
              "size": 10,
              "solidity": 0.2
             }
            },
            "type": "bar"
           }
          ],
          "barpolar": [
           {
            "marker": {
             "line": {
              "color": "#E5ECF6",
              "width": 0.5
             },
             "pattern": {
              "fillmode": "overlay",
              "size": 10,
              "solidity": 0.2
             }
            },
            "type": "barpolar"
           }
          ],
          "carpet": [
           {
            "aaxis": {
             "endlinecolor": "#2a3f5f",
             "gridcolor": "white",
             "linecolor": "white",
             "minorgridcolor": "white",
             "startlinecolor": "#2a3f5f"
            },
            "baxis": {
             "endlinecolor": "#2a3f5f",
             "gridcolor": "white",
             "linecolor": "white",
             "minorgridcolor": "white",
             "startlinecolor": "#2a3f5f"
            },
            "type": "carpet"
           }
          ],
          "choropleth": [
           {
            "colorbar": {
             "outlinewidth": 0,
             "ticks": ""
            },
            "type": "choropleth"
           }
          ],
          "contour": [
           {
            "colorbar": {
             "outlinewidth": 0,
             "ticks": ""
            },
            "colorscale": [
             [
              0,
              "#0d0887"
             ],
             [
              0.1111111111111111,
              "#46039f"
             ],
             [
              0.2222222222222222,
              "#7201a8"
             ],
             [
              0.3333333333333333,
              "#9c179e"
             ],
             [
              0.4444444444444444,
              "#bd3786"
             ],
             [
              0.5555555555555556,
              "#d8576b"
             ],
             [
              0.6666666666666666,
              "#ed7953"
             ],
             [
              0.7777777777777778,
              "#fb9f3a"
             ],
             [
              0.8888888888888888,
              "#fdca26"
             ],
             [
              1,
              "#f0f921"
             ]
            ],
            "type": "contour"
           }
          ],
          "contourcarpet": [
           {
            "colorbar": {
             "outlinewidth": 0,
             "ticks": ""
            },
            "type": "contourcarpet"
           }
          ],
          "heatmap": [
           {
            "colorbar": {
             "outlinewidth": 0,
             "ticks": ""
            },
            "colorscale": [
             [
              0,
              "#0d0887"
             ],
             [
              0.1111111111111111,
              "#46039f"
             ],
             [
              0.2222222222222222,
              "#7201a8"
             ],
             [
              0.3333333333333333,
              "#9c179e"
             ],
             [
              0.4444444444444444,
              "#bd3786"
             ],
             [
              0.5555555555555556,
              "#d8576b"
             ],
             [
              0.6666666666666666,
              "#ed7953"
             ],
             [
              0.7777777777777778,
              "#fb9f3a"
             ],
             [
              0.8888888888888888,
              "#fdca26"
             ],
             [
              1,
              "#f0f921"
             ]
            ],
            "type": "heatmap"
           }
          ],
          "heatmapgl": [
           {
            "colorbar": {
             "outlinewidth": 0,
             "ticks": ""
            },
            "colorscale": [
             [
              0,
              "#0d0887"
             ],
             [
              0.1111111111111111,
              "#46039f"
             ],
             [
              0.2222222222222222,
              "#7201a8"
             ],
             [
              0.3333333333333333,
              "#9c179e"
             ],
             [
              0.4444444444444444,
              "#bd3786"
             ],
             [
              0.5555555555555556,
              "#d8576b"
             ],
             [
              0.6666666666666666,
              "#ed7953"
             ],
             [
              0.7777777777777778,
              "#fb9f3a"
             ],
             [
              0.8888888888888888,
              "#fdca26"
             ],
             [
              1,
              "#f0f921"
             ]
            ],
            "type": "heatmapgl"
           }
          ],
          "histogram": [
           {
            "marker": {
             "pattern": {
              "fillmode": "overlay",
              "size": 10,
              "solidity": 0.2
             }
            },
            "type": "histogram"
           }
          ],
          "histogram2d": [
           {
            "colorbar": {
             "outlinewidth": 0,
             "ticks": ""
            },
            "colorscale": [
             [
              0,
              "#0d0887"
             ],
             [
              0.1111111111111111,
              "#46039f"
             ],
             [
              0.2222222222222222,
              "#7201a8"
             ],
             [
              0.3333333333333333,
              "#9c179e"
             ],
             [
              0.4444444444444444,
              "#bd3786"
             ],
             [
              0.5555555555555556,
              "#d8576b"
             ],
             [
              0.6666666666666666,
              "#ed7953"
             ],
             [
              0.7777777777777778,
              "#fb9f3a"
             ],
             [
              0.8888888888888888,
              "#fdca26"
             ],
             [
              1,
              "#f0f921"
             ]
            ],
            "type": "histogram2d"
           }
          ],
          "histogram2dcontour": [
           {
            "colorbar": {
             "outlinewidth": 0,
             "ticks": ""
            },
            "colorscale": [
             [
              0,
              "#0d0887"
             ],
             [
              0.1111111111111111,
              "#46039f"
             ],
             [
              0.2222222222222222,
              "#7201a8"
             ],
             [
              0.3333333333333333,
              "#9c179e"
             ],
             [
              0.4444444444444444,
              "#bd3786"
             ],
             [
              0.5555555555555556,
              "#d8576b"
             ],
             [
              0.6666666666666666,
              "#ed7953"
             ],
             [
              0.7777777777777778,
              "#fb9f3a"
             ],
             [
              0.8888888888888888,
              "#fdca26"
             ],
             [
              1,
              "#f0f921"
             ]
            ],
            "type": "histogram2dcontour"
           }
          ],
          "mesh3d": [
           {
            "colorbar": {
             "outlinewidth": 0,
             "ticks": ""
            },
            "type": "mesh3d"
           }
          ],
          "parcoords": [
           {
            "line": {
             "colorbar": {
              "outlinewidth": 0,
              "ticks": ""
             }
            },
            "type": "parcoords"
           }
          ],
          "pie": [
           {
            "automargin": true,
            "type": "pie"
           }
          ],
          "scatter": [
           {
            "fillpattern": {
             "fillmode": "overlay",
             "size": 10,
             "solidity": 0.2
            },
            "type": "scatter"
           }
          ],
          "scatter3d": [
           {
            "line": {
             "colorbar": {
              "outlinewidth": 0,
              "ticks": ""
             }
            },
            "marker": {
             "colorbar": {
              "outlinewidth": 0,
              "ticks": ""
             }
            },
            "type": "scatter3d"
           }
          ],
          "scattercarpet": [
           {
            "marker": {
             "colorbar": {
              "outlinewidth": 0,
              "ticks": ""
             }
            },
            "type": "scattercarpet"
           }
          ],
          "scattergeo": [
           {
            "marker": {
             "colorbar": {
              "outlinewidth": 0,
              "ticks": ""
             }
            },
            "type": "scattergeo"
           }
          ],
          "scattergl": [
           {
            "marker": {
             "colorbar": {
              "outlinewidth": 0,
              "ticks": ""
             }
            },
            "type": "scattergl"
           }
          ],
          "scattermapbox": [
           {
            "marker": {
             "colorbar": {
              "outlinewidth": 0,
              "ticks": ""
             }
            },
            "type": "scattermapbox"
           }
          ],
          "scatterpolar": [
           {
            "marker": {
             "colorbar": {
              "outlinewidth": 0,
              "ticks": ""
             }
            },
            "type": "scatterpolar"
           }
          ],
          "scatterpolargl": [
           {
            "marker": {
             "colorbar": {
              "outlinewidth": 0,
              "ticks": ""
             }
            },
            "type": "scatterpolargl"
           }
          ],
          "scatterternary": [
           {
            "marker": {
             "colorbar": {
              "outlinewidth": 0,
              "ticks": ""
             }
            },
            "type": "scatterternary"
           }
          ],
          "surface": [
           {
            "colorbar": {
             "outlinewidth": 0,
             "ticks": ""
            },
            "colorscale": [
             [
              0,
              "#0d0887"
             ],
             [
              0.1111111111111111,
              "#46039f"
             ],
             [
              0.2222222222222222,
              "#7201a8"
             ],
             [
              0.3333333333333333,
              "#9c179e"
             ],
             [
              0.4444444444444444,
              "#bd3786"
             ],
             [
              0.5555555555555556,
              "#d8576b"
             ],
             [
              0.6666666666666666,
              "#ed7953"
             ],
             [
              0.7777777777777778,
              "#fb9f3a"
             ],
             [
              0.8888888888888888,
              "#fdca26"
             ],
             [
              1,
              "#f0f921"
             ]
            ],
            "type": "surface"
           }
          ],
          "table": [
           {
            "cells": {
             "fill": {
              "color": "#EBF0F8"
             },
             "line": {
              "color": "white"
             }
            },
            "header": {
             "fill": {
              "color": "#C8D4E3"
             },
             "line": {
              "color": "white"
             }
            },
            "type": "table"
           }
          ]
         },
         "layout": {
          "annotationdefaults": {
           "arrowcolor": "#2a3f5f",
           "arrowhead": 0,
           "arrowwidth": 1
          },
          "autotypenumbers": "strict",
          "coloraxis": {
           "colorbar": {
            "outlinewidth": 0,
            "ticks": ""
           }
          },
          "colorscale": {
           "diverging": [
            [
             0,
             "#8e0152"
            ],
            [
             0.1,
             "#c51b7d"
            ],
            [
             0.2,
             "#de77ae"
            ],
            [
             0.3,
             "#f1b6da"
            ],
            [
             0.4,
             "#fde0ef"
            ],
            [
             0.5,
             "#f7f7f7"
            ],
            [
             0.6,
             "#e6f5d0"
            ],
            [
             0.7,
             "#b8e186"
            ],
            [
             0.8,
             "#7fbc41"
            ],
            [
             0.9,
             "#4d9221"
            ],
            [
             1,
             "#276419"
            ]
           ],
           "sequential": [
            [
             0,
             "#0d0887"
            ],
            [
             0.1111111111111111,
             "#46039f"
            ],
            [
             0.2222222222222222,
             "#7201a8"
            ],
            [
             0.3333333333333333,
             "#9c179e"
            ],
            [
             0.4444444444444444,
             "#bd3786"
            ],
            [
             0.5555555555555556,
             "#d8576b"
            ],
            [
             0.6666666666666666,
             "#ed7953"
            ],
            [
             0.7777777777777778,
             "#fb9f3a"
            ],
            [
             0.8888888888888888,
             "#fdca26"
            ],
            [
             1,
             "#f0f921"
            ]
           ],
           "sequentialminus": [
            [
             0,
             "#0d0887"
            ],
            [
             0.1111111111111111,
             "#46039f"
            ],
            [
             0.2222222222222222,
             "#7201a8"
            ],
            [
             0.3333333333333333,
             "#9c179e"
            ],
            [
             0.4444444444444444,
             "#bd3786"
            ],
            [
             0.5555555555555556,
             "#d8576b"
            ],
            [
             0.6666666666666666,
             "#ed7953"
            ],
            [
             0.7777777777777778,
             "#fb9f3a"
            ],
            [
             0.8888888888888888,
             "#fdca26"
            ],
            [
             1,
             "#f0f921"
            ]
           ]
          },
          "colorway": [
           "#636efa",
           "#EF553B",
           "#00cc96",
           "#ab63fa",
           "#FFA15A",
           "#19d3f3",
           "#FF6692",
           "#B6E880",
           "#FF97FF",
           "#FECB52"
          ],
          "font": {
           "color": "#2a3f5f"
          },
          "geo": {
           "bgcolor": "white",
           "lakecolor": "white",
           "landcolor": "#E5ECF6",
           "showlakes": true,
           "showland": true,
           "subunitcolor": "white"
          },
          "hoverlabel": {
           "align": "left"
          },
          "hovermode": "closest",
          "mapbox": {
           "style": "light"
          },
          "paper_bgcolor": "white",
          "plot_bgcolor": "#E5ECF6",
          "polar": {
           "angularaxis": {
            "gridcolor": "white",
            "linecolor": "white",
            "ticks": ""
           },
           "bgcolor": "#E5ECF6",
           "radialaxis": {
            "gridcolor": "white",
            "linecolor": "white",
            "ticks": ""
           }
          },
          "scene": {
           "xaxis": {
            "backgroundcolor": "#E5ECF6",
            "gridcolor": "white",
            "gridwidth": 2,
            "linecolor": "white",
            "showbackground": true,
            "ticks": "",
            "zerolinecolor": "white"
           },
           "yaxis": {
            "backgroundcolor": "#E5ECF6",
            "gridcolor": "white",
            "gridwidth": 2,
            "linecolor": "white",
            "showbackground": true,
            "ticks": "",
            "zerolinecolor": "white"
           },
           "zaxis": {
            "backgroundcolor": "#E5ECF6",
            "gridcolor": "white",
            "gridwidth": 2,
            "linecolor": "white",
            "showbackground": true,
            "ticks": "",
            "zerolinecolor": "white"
           }
          },
          "shapedefaults": {
           "line": {
            "color": "#2a3f5f"
           }
          },
          "ternary": {
           "aaxis": {
            "gridcolor": "white",
            "linecolor": "white",
            "ticks": ""
           },
           "baxis": {
            "gridcolor": "white",
            "linecolor": "white",
            "ticks": ""
           },
           "bgcolor": "#E5ECF6",
           "caxis": {
            "gridcolor": "white",
            "linecolor": "white",
            "ticks": ""
           }
          },
          "title": {
           "x": 0.05
          },
          "xaxis": {
           "automargin": true,
           "gridcolor": "white",
           "linecolor": "white",
           "ticks": "",
           "title": {
            "standoff": 15
           },
           "zerolinecolor": "white",
           "zerolinewidth": 2
          },
          "yaxis": {
           "automargin": true,
           "gridcolor": "white",
           "linecolor": "white",
           "ticks": "",
           "title": {
            "standoff": 15
           },
           "zerolinecolor": "white",
           "zerolinewidth": 2
          }
         }
        },
        "xaxis": {
         "anchor": "y",
         "domain": [
          0,
          1
         ],
         "title": {
          "text": "PURCHASE_DT_1"
         }
        },
        "yaxis": {
         "anchor": "x",
         "domain": [
          0,
          1
         ],
         "title": {
          "text": "TOTAL_ANP"
         }
        }
       }
      }
     },
     "metadata": {},
     "output_type": "display_data"
    }
   ],
   "source": [
    "fig = px.line(df_base_3, x=\"PURCHASE_DT_1\", y=\"TOTAL_ANP\", color=\"PROD_CAT\")\n",
    "fig.show()"
   ]
  },
  {
   "cell_type": "markdown",
   "metadata": {},
   "source": [
    "The top main needs are Life, Disability, Medical and Savers"
   ]
  },
  {
   "cell_type": "code",
   "execution_count": 11,
   "metadata": {},
   "outputs": [
    {
     "name": "stderr",
     "output_type": "stream",
     "text": [
      "C:\\Users\\benja\\AppData\\Local\\Temp\\ipykernel_19552\\3415159312.py:2: SettingWithCopyWarning:\n",
      "\n",
      "\n",
      "A value is trying to be set on a copy of a slice from a DataFrame\n",
      "\n",
      "See the caveats in the documentation: https://pandas.pydata.org/pandas-docs/stable/user_guide/indexing.html#returning-a-view-versus-a-copy\n",
      "\n"
     ]
    },
    {
     "data": {
      "application/vnd.plotly.v1+json": {
       "config": {
        "plotlyServerURL": "https://plot.ly"
       },
       "data": [
        {
         "hovertemplate": "MAIN_NEED=Accident<br>PURCHASE_DT_1=%{x}<br>N_POLICIES=%{y}<extra></extra>",
         "legendgroup": "Accident",
         "line": {
          "color": "#636efa",
          "dash": "solid"
         },
         "marker": {
          "symbol": "circle"
         },
         "mode": "lines",
         "name": "Accident",
         "orientation": "v",
         "showlegend": true,
         "type": "scatter",
         "x": [
          "201901",
          "201902",
          "201903",
          "201904",
          "201905",
          "201906",
          "201907",
          "201908",
          "201909",
          "201910",
          "201911",
          "201912",
          "202001",
          "202002",
          "202003",
          "202004",
          "202005",
          "202006",
          "202007",
          "202008",
          "202009",
          "202010",
          "202011",
          "202012",
          "202101",
          "202102",
          "202103"
         ],
         "xaxis": "x",
         "y": [
          733,
          675,
          958,
          916,
          921,
          1258,
          982,
          841,
          819,
          730,
          719,
          950,
          662,
          865,
          646,
          375,
          824,
          1204,
          1327,
          1498,
          1372,
          1520,
          1041,
          1440,
          1109,
          945,
          1
         ],
         "yaxis": "y"
        },
        {
         "hovertemplate": "MAIN_NEED=Critical Illness<br>PURCHASE_DT_1=%{x}<br>N_POLICIES=%{y}<extra></extra>",
         "legendgroup": "Critical Illness",
         "line": {
          "color": "#EF553B",
          "dash": "solid"
         },
         "marker": {
          "symbol": "circle"
         },
         "mode": "lines",
         "name": "Critical Illness",
         "orientation": "v",
         "showlegend": true,
         "type": "scatter",
         "x": [
          "201901",
          "201902",
          "201903",
          "201904",
          "201905",
          "201906",
          "201907",
          "201908",
          "201909",
          "201910",
          "201911",
          "201912",
          "202001",
          "202002",
          "202003",
          "202004",
          "202005",
          "202006",
          "202007",
          "202008",
          "202009",
          "202010",
          "202011",
          "202012",
          "202101",
          "202102",
          "202103"
         ],
         "xaxis": "x",
         "y": [
          1231,
          1217,
          1560,
          1229,
          1268,
          2383,
          1220,
          957,
          1124,
          1362,
          1228,
          1389,
          1009,
          1204,
          1062,
          632,
          788,
          1226,
          1605,
          1743,
          1847,
          1349,
          1507,
          2005,
          1504,
          1455,
          15
         ],
         "yaxis": "y"
        },
        {
         "hovertemplate": "MAIN_NEED=Disability<br>PURCHASE_DT_1=%{x}<br>N_POLICIES=%{y}<extra></extra>",
         "legendgroup": "Disability",
         "line": {
          "color": "#00cc96",
          "dash": "solid"
         },
         "marker": {
          "symbol": "circle"
         },
         "mode": "lines",
         "name": "Disability",
         "orientation": "v",
         "showlegend": true,
         "type": "scatter",
         "x": [
          "201901",
          "201902",
          "201903",
          "201904",
          "201905",
          "201906",
          "201907",
          "201908",
          "201909",
          "201910",
          "201911",
          "201912",
          "202001",
          "202002",
          "202003",
          "202004",
          "202005",
          "202006",
          "202007",
          "202008",
          "202009",
          "202010",
          "202011",
          "202012",
          "202101",
          "202102",
          "202103",
          "202106"
         ],
         "xaxis": "x",
         "y": [
          2058,
          1954,
          2750,
          2152,
          2183,
          4157,
          2339,
          1848,
          2208,
          2620,
          2381,
          2796,
          2247,
          2518,
          2152,
          1319,
          4765,
          4558,
          3493,
          3422,
          3652,
          2843,
          3273,
          4405,
          3340,
          3352,
          4,
          1
         ],
         "yaxis": "y"
        },
        {
         "hovertemplate": "MAIN_NEED=Endowment<br>PURCHASE_DT_1=%{x}<br>N_POLICIES=%{y}<extra></extra>",
         "legendgroup": "Endowment",
         "line": {
          "color": "#ab63fa",
          "dash": "solid"
         },
         "marker": {
          "symbol": "circle"
         },
         "mode": "lines",
         "name": "Endowment",
         "orientation": "v",
         "showlegend": true,
         "type": "scatter",
         "x": [
          "201901",
          "201902",
          "201903",
          "201904",
          "201905",
          "201906",
          "201907",
          "201908",
          "201909",
          "201910",
          "201911",
          "201912",
          "202001",
          "202002",
          "202003",
          "202004",
          "202005",
          "202006",
          "202007",
          "202008",
          "202009",
          "202010",
          "202011",
          "202012",
          "202101",
          "202102"
         ],
         "xaxis": "x",
         "y": [
          46,
          45,
          118,
          113,
          94,
          114,
          79,
          74,
          94,
          95,
          103,
          94,
          209,
          244,
          70,
          46,
          69,
          113,
          177,
          114,
          138,
          125,
          204,
          202,
          179,
          197
         ],
         "yaxis": "y"
        },
        {
         "hovertemplate": "MAIN_NEED=Income<br>PURCHASE_DT_1=%{x}<br>N_POLICIES=%{y}<extra></extra>",
         "legendgroup": "Income",
         "line": {
          "color": "#FFA15A",
          "dash": "solid"
         },
         "marker": {
          "symbol": "circle"
         },
         "mode": "lines",
         "name": "Income",
         "orientation": "v",
         "showlegend": true,
         "type": "scatter",
         "x": [
          "201901",
          "201902",
          "201903",
          "201904",
          "201905",
          "201906",
          "201907",
          "201908",
          "201909",
          "201910",
          "201911",
          "201912",
          "202001",
          "202002",
          "202003",
          "202004",
          "202005",
          "202006",
          "202007",
          "202008",
          "202009",
          "202010",
          "202011",
          "202012",
          "202101",
          "202102"
         ],
         "xaxis": "x",
         "y": [
          644,
          626,
          784,
          660,
          661,
          1365,
          663,
          535,
          628,
          643,
          622,
          682,
          584,
          701,
          599,
          381,
          507,
          735,
          949,
          928,
          1018,
          672,
          680,
          1205,
          773,
          713
         ],
         "yaxis": "y"
        },
        {
         "hovertemplate": "MAIN_NEED=Life<br>PURCHASE_DT_1=%{x}<br>N_POLICIES=%{y}<extra></extra>",
         "legendgroup": "Life",
         "line": {
          "color": "#19d3f3",
          "dash": "solid"
         },
         "marker": {
          "symbol": "circle"
         },
         "mode": "lines",
         "name": "Life",
         "orientation": "v",
         "showlegend": true,
         "type": "scatter",
         "x": [
          "201901",
          "201902",
          "201903",
          "201904",
          "201905",
          "201906",
          "201907",
          "201908",
          "201909",
          "201910",
          "201911",
          "201912",
          "202001",
          "202002",
          "202003",
          "202004",
          "202005",
          "202006",
          "202007",
          "202008",
          "202009",
          "202010",
          "202011",
          "202012",
          "202101",
          "202102",
          "202103",
          "202104",
          "202105",
          "202106",
          "202107",
          "202108",
          "202109",
          "202110",
          "202111"
         ],
         "xaxis": "x",
         "y": [
          2024,
          1891,
          2643,
          2060,
          2117,
          4073,
          2289,
          1825,
          2140,
          2556,
          2381,
          2762,
          2089,
          2314,
          2094,
          1282,
          4763,
          4476,
          3335,
          3350,
          3565,
          2753,
          3220,
          4267,
          3183,
          3237,
          27,
          3,
          2,
          2,
          2,
          1,
          1,
          2,
          1
         ],
         "yaxis": "y"
        },
        {
         "hovertemplate": "MAIN_NEED=Medical<br>PURCHASE_DT_1=%{x}<br>N_POLICIES=%{y}<extra></extra>",
         "legendgroup": "Medical",
         "line": {
          "color": "#FF6692",
          "dash": "solid"
         },
         "marker": {
          "symbol": "circle"
         },
         "mode": "lines",
         "name": "Medical",
         "orientation": "v",
         "showlegend": true,
         "type": "scatter",
         "x": [
          "201901",
          "201902",
          "201903",
          "201904",
          "201905",
          "201906",
          "201907",
          "201908",
          "201909",
          "201910",
          "201911",
          "201912",
          "202001",
          "202002",
          "202003",
          "202004",
          "202005",
          "202006",
          "202007",
          "202008",
          "202009",
          "202010",
          "202011",
          "202012",
          "202101",
          "202102",
          "202103",
          "202105",
          "202106"
         ],
         "xaxis": "x",
         "y": [
          2141,
          1974,
          2635,
          2317,
          2292,
          4072,
          2506,
          2049,
          2343,
          2538,
          2230,
          2868,
          2221,
          2530,
          2266,
          1436,
          1883,
          2605,
          3563,
          3913,
          4619,
          2954,
          2853,
          3643,
          3079,
          3136,
          12,
          6,
          2
         ],
         "yaxis": "y"
        },
        {
         "hovertemplate": "MAIN_NEED=N/A<br>PURCHASE_DT_1=%{x}<br>N_POLICIES=%{y}<extra></extra>",
         "legendgroup": "N/A",
         "line": {
          "color": "#B6E880",
          "dash": "solid"
         },
         "marker": {
          "symbol": "circle"
         },
         "mode": "lines",
         "name": "N/A",
         "orientation": "v",
         "showlegend": true,
         "type": "scatter",
         "x": [
          "202007",
          "202008",
          "202009",
          "202010",
          "202011",
          "202012",
          "202101",
          "202102",
          "202111",
          "202112",
          "202201",
          "202203"
         ],
         "xaxis": "x",
         "y": [
          26,
          35,
          55,
          265,
          393,
          651,
          381,
          426,
          1,
          2,
          3,
          1
         ],
         "yaxis": "y"
        },
        {
         "hovertemplate": "MAIN_NEED=Other Medical<br>PURCHASE_DT_1=%{x}<br>N_POLICIES=%{y}<extra></extra>",
         "legendgroup": "Other Medical",
         "line": {
          "color": "#FF97FF",
          "dash": "solid"
         },
         "marker": {
          "symbol": "circle"
         },
         "mode": "lines",
         "name": "Other Medical",
         "orientation": "v",
         "showlegend": true,
         "type": "scatter",
         "x": [
          "201901",
          "201902",
          "201903",
          "201905",
          "201906",
          "201907",
          "201908",
          "201909",
          "201910",
          "201911",
          "201912",
          "202001",
          "202002",
          "202003",
          "202004",
          "202005",
          "202006",
          "202007",
          "202008",
          "202009",
          "202010",
          "202011",
          "202012",
          "202101",
          "202102",
          "202103"
         ],
         "xaxis": "x",
         "y": [
          3,
          2,
          3,
          13,
          1,
          8,
          7,
          4,
          163,
          154,
          213,
          135,
          158,
          154,
          66,
          74,
          157,
          228,
          263,
          1007,
          677,
          641,
          644,
          492,
          452,
          1
         ],
         "yaxis": "y"
        },
        {
         "hovertemplate": "MAIN_NEED=Payor/Waiver<br>PURCHASE_DT_1=%{x}<br>N_POLICIES=%{y}<extra></extra>",
         "legendgroup": "Payor/Waiver",
         "line": {
          "color": "#FECB52",
          "dash": "solid"
         },
         "marker": {
          "symbol": "circle"
         },
         "mode": "lines",
         "name": "Payor/Waiver",
         "orientation": "v",
         "showlegend": true,
         "type": "scatter",
         "x": [
          "201901",
          "201902",
          "201903",
          "201904",
          "201905",
          "201906",
          "201907",
          "201908",
          "201909",
          "201910",
          "201911",
          "201912",
          "202001",
          "202002",
          "202003",
          "202004",
          "202005",
          "202006",
          "202007",
          "202008",
          "202009",
          "202010",
          "202011",
          "202012",
          "202101",
          "202102",
          "202103"
         ],
         "xaxis": "x",
         "y": [
          1436,
          1351,
          1795,
          1453,
          1483,
          2794,
          1483,
          1195,
          1448,
          1736,
          1513,
          1864,
          1493,
          1720,
          1442,
          882,
          1127,
          1693,
          2283,
          2347,
          2520,
          1834,
          2025,
          3099,
          2210,
          2157,
          1
         ],
         "yaxis": "y"
        },
        {
         "hovertemplate": "MAIN_NEED=Savers<br>PURCHASE_DT_1=%{x}<br>N_POLICIES=%{y}<extra></extra>",
         "legendgroup": "Savers",
         "line": {
          "color": "#636efa",
          "dash": "solid"
         },
         "marker": {
          "symbol": "circle"
         },
         "mode": "lines",
         "name": "Savers",
         "orientation": "v",
         "showlegend": true,
         "type": "scatter",
         "x": [
          "201901",
          "201902",
          "201903",
          "201904",
          "201905",
          "201906",
          "201907",
          "201908",
          "201909",
          "201910",
          "201911",
          "201912",
          "202001",
          "202002",
          "202003",
          "202004",
          "202005",
          "202006",
          "202007",
          "202008",
          "202009",
          "202010",
          "202011",
          "202012",
          "202101",
          "202102",
          "202103",
          "202104",
          "202106",
          "202107",
          "202108",
          "202109",
          "202110",
          "202111",
          "202112",
          "202201",
          "202202",
          "202204"
         ],
         "xaxis": "x",
         "y": [
          1818,
          1805,
          2538,
          1978,
          2016,
          3938,
          2113,
          1654,
          1976,
          2362,
          2051,
          2528,
          2008,
          2172,
          1774,
          1005,
          1329,
          2133,
          2745,
          2850,
          3049,
          2104,
          2120,
          3392,
          2182,
          1810,
          4,
          2,
          2,
          6,
          1,
          3,
          1,
          2,
          3,
          4,
          1,
          1
         ],
         "yaxis": "y"
        }
       ],
       "layout": {
        "legend": {
         "title": {
          "text": "MAIN_NEED"
         },
         "tracegroupgap": 0
        },
        "margin": {
         "t": 60
        },
        "template": {
         "data": {
          "bar": [
           {
            "error_x": {
             "color": "#2a3f5f"
            },
            "error_y": {
             "color": "#2a3f5f"
            },
            "marker": {
             "line": {
              "color": "#E5ECF6",
              "width": 0.5
             },
             "pattern": {
              "fillmode": "overlay",
              "size": 10,
              "solidity": 0.2
             }
            },
            "type": "bar"
           }
          ],
          "barpolar": [
           {
            "marker": {
             "line": {
              "color": "#E5ECF6",
              "width": 0.5
             },
             "pattern": {
              "fillmode": "overlay",
              "size": 10,
              "solidity": 0.2
             }
            },
            "type": "barpolar"
           }
          ],
          "carpet": [
           {
            "aaxis": {
             "endlinecolor": "#2a3f5f",
             "gridcolor": "white",
             "linecolor": "white",
             "minorgridcolor": "white",
             "startlinecolor": "#2a3f5f"
            },
            "baxis": {
             "endlinecolor": "#2a3f5f",
             "gridcolor": "white",
             "linecolor": "white",
             "minorgridcolor": "white",
             "startlinecolor": "#2a3f5f"
            },
            "type": "carpet"
           }
          ],
          "choropleth": [
           {
            "colorbar": {
             "outlinewidth": 0,
             "ticks": ""
            },
            "type": "choropleth"
           }
          ],
          "contour": [
           {
            "colorbar": {
             "outlinewidth": 0,
             "ticks": ""
            },
            "colorscale": [
             [
              0,
              "#0d0887"
             ],
             [
              0.1111111111111111,
              "#46039f"
             ],
             [
              0.2222222222222222,
              "#7201a8"
             ],
             [
              0.3333333333333333,
              "#9c179e"
             ],
             [
              0.4444444444444444,
              "#bd3786"
             ],
             [
              0.5555555555555556,
              "#d8576b"
             ],
             [
              0.6666666666666666,
              "#ed7953"
             ],
             [
              0.7777777777777778,
              "#fb9f3a"
             ],
             [
              0.8888888888888888,
              "#fdca26"
             ],
             [
              1,
              "#f0f921"
             ]
            ],
            "type": "contour"
           }
          ],
          "contourcarpet": [
           {
            "colorbar": {
             "outlinewidth": 0,
             "ticks": ""
            },
            "type": "contourcarpet"
           }
          ],
          "heatmap": [
           {
            "colorbar": {
             "outlinewidth": 0,
             "ticks": ""
            },
            "colorscale": [
             [
              0,
              "#0d0887"
             ],
             [
              0.1111111111111111,
              "#46039f"
             ],
             [
              0.2222222222222222,
              "#7201a8"
             ],
             [
              0.3333333333333333,
              "#9c179e"
             ],
             [
              0.4444444444444444,
              "#bd3786"
             ],
             [
              0.5555555555555556,
              "#d8576b"
             ],
             [
              0.6666666666666666,
              "#ed7953"
             ],
             [
              0.7777777777777778,
              "#fb9f3a"
             ],
             [
              0.8888888888888888,
              "#fdca26"
             ],
             [
              1,
              "#f0f921"
             ]
            ],
            "type": "heatmap"
           }
          ],
          "heatmapgl": [
           {
            "colorbar": {
             "outlinewidth": 0,
             "ticks": ""
            },
            "colorscale": [
             [
              0,
              "#0d0887"
             ],
             [
              0.1111111111111111,
              "#46039f"
             ],
             [
              0.2222222222222222,
              "#7201a8"
             ],
             [
              0.3333333333333333,
              "#9c179e"
             ],
             [
              0.4444444444444444,
              "#bd3786"
             ],
             [
              0.5555555555555556,
              "#d8576b"
             ],
             [
              0.6666666666666666,
              "#ed7953"
             ],
             [
              0.7777777777777778,
              "#fb9f3a"
             ],
             [
              0.8888888888888888,
              "#fdca26"
             ],
             [
              1,
              "#f0f921"
             ]
            ],
            "type": "heatmapgl"
           }
          ],
          "histogram": [
           {
            "marker": {
             "pattern": {
              "fillmode": "overlay",
              "size": 10,
              "solidity": 0.2
             }
            },
            "type": "histogram"
           }
          ],
          "histogram2d": [
           {
            "colorbar": {
             "outlinewidth": 0,
             "ticks": ""
            },
            "colorscale": [
             [
              0,
              "#0d0887"
             ],
             [
              0.1111111111111111,
              "#46039f"
             ],
             [
              0.2222222222222222,
              "#7201a8"
             ],
             [
              0.3333333333333333,
              "#9c179e"
             ],
             [
              0.4444444444444444,
              "#bd3786"
             ],
             [
              0.5555555555555556,
              "#d8576b"
             ],
             [
              0.6666666666666666,
              "#ed7953"
             ],
             [
              0.7777777777777778,
              "#fb9f3a"
             ],
             [
              0.8888888888888888,
              "#fdca26"
             ],
             [
              1,
              "#f0f921"
             ]
            ],
            "type": "histogram2d"
           }
          ],
          "histogram2dcontour": [
           {
            "colorbar": {
             "outlinewidth": 0,
             "ticks": ""
            },
            "colorscale": [
             [
              0,
              "#0d0887"
             ],
             [
              0.1111111111111111,
              "#46039f"
             ],
             [
              0.2222222222222222,
              "#7201a8"
             ],
             [
              0.3333333333333333,
              "#9c179e"
             ],
             [
              0.4444444444444444,
              "#bd3786"
             ],
             [
              0.5555555555555556,
              "#d8576b"
             ],
             [
              0.6666666666666666,
              "#ed7953"
             ],
             [
              0.7777777777777778,
              "#fb9f3a"
             ],
             [
              0.8888888888888888,
              "#fdca26"
             ],
             [
              1,
              "#f0f921"
             ]
            ],
            "type": "histogram2dcontour"
           }
          ],
          "mesh3d": [
           {
            "colorbar": {
             "outlinewidth": 0,
             "ticks": ""
            },
            "type": "mesh3d"
           }
          ],
          "parcoords": [
           {
            "line": {
             "colorbar": {
              "outlinewidth": 0,
              "ticks": ""
             }
            },
            "type": "parcoords"
           }
          ],
          "pie": [
           {
            "automargin": true,
            "type": "pie"
           }
          ],
          "scatter": [
           {
            "fillpattern": {
             "fillmode": "overlay",
             "size": 10,
             "solidity": 0.2
            },
            "type": "scatter"
           }
          ],
          "scatter3d": [
           {
            "line": {
             "colorbar": {
              "outlinewidth": 0,
              "ticks": ""
             }
            },
            "marker": {
             "colorbar": {
              "outlinewidth": 0,
              "ticks": ""
             }
            },
            "type": "scatter3d"
           }
          ],
          "scattercarpet": [
           {
            "marker": {
             "colorbar": {
              "outlinewidth": 0,
              "ticks": ""
             }
            },
            "type": "scattercarpet"
           }
          ],
          "scattergeo": [
           {
            "marker": {
             "colorbar": {
              "outlinewidth": 0,
              "ticks": ""
             }
            },
            "type": "scattergeo"
           }
          ],
          "scattergl": [
           {
            "marker": {
             "colorbar": {
              "outlinewidth": 0,
              "ticks": ""
             }
            },
            "type": "scattergl"
           }
          ],
          "scattermapbox": [
           {
            "marker": {
             "colorbar": {
              "outlinewidth": 0,
              "ticks": ""
             }
            },
            "type": "scattermapbox"
           }
          ],
          "scatterpolar": [
           {
            "marker": {
             "colorbar": {
              "outlinewidth": 0,
              "ticks": ""
             }
            },
            "type": "scatterpolar"
           }
          ],
          "scatterpolargl": [
           {
            "marker": {
             "colorbar": {
              "outlinewidth": 0,
              "ticks": ""
             }
            },
            "type": "scatterpolargl"
           }
          ],
          "scatterternary": [
           {
            "marker": {
             "colorbar": {
              "outlinewidth": 0,
              "ticks": ""
             }
            },
            "type": "scatterternary"
           }
          ],
          "surface": [
           {
            "colorbar": {
             "outlinewidth": 0,
             "ticks": ""
            },
            "colorscale": [
             [
              0,
              "#0d0887"
             ],
             [
              0.1111111111111111,
              "#46039f"
             ],
             [
              0.2222222222222222,
              "#7201a8"
             ],
             [
              0.3333333333333333,
              "#9c179e"
             ],
             [
              0.4444444444444444,
              "#bd3786"
             ],
             [
              0.5555555555555556,
              "#d8576b"
             ],
             [
              0.6666666666666666,
              "#ed7953"
             ],
             [
              0.7777777777777778,
              "#fb9f3a"
             ],
             [
              0.8888888888888888,
              "#fdca26"
             ],
             [
              1,
              "#f0f921"
             ]
            ],
            "type": "surface"
           }
          ],
          "table": [
           {
            "cells": {
             "fill": {
              "color": "#EBF0F8"
             },
             "line": {
              "color": "white"
             }
            },
            "header": {
             "fill": {
              "color": "#C8D4E3"
             },
             "line": {
              "color": "white"
             }
            },
            "type": "table"
           }
          ]
         },
         "layout": {
          "annotationdefaults": {
           "arrowcolor": "#2a3f5f",
           "arrowhead": 0,
           "arrowwidth": 1
          },
          "autotypenumbers": "strict",
          "coloraxis": {
           "colorbar": {
            "outlinewidth": 0,
            "ticks": ""
           }
          },
          "colorscale": {
           "diverging": [
            [
             0,
             "#8e0152"
            ],
            [
             0.1,
             "#c51b7d"
            ],
            [
             0.2,
             "#de77ae"
            ],
            [
             0.3,
             "#f1b6da"
            ],
            [
             0.4,
             "#fde0ef"
            ],
            [
             0.5,
             "#f7f7f7"
            ],
            [
             0.6,
             "#e6f5d0"
            ],
            [
             0.7,
             "#b8e186"
            ],
            [
             0.8,
             "#7fbc41"
            ],
            [
             0.9,
             "#4d9221"
            ],
            [
             1,
             "#276419"
            ]
           ],
           "sequential": [
            [
             0,
             "#0d0887"
            ],
            [
             0.1111111111111111,
             "#46039f"
            ],
            [
             0.2222222222222222,
             "#7201a8"
            ],
            [
             0.3333333333333333,
             "#9c179e"
            ],
            [
             0.4444444444444444,
             "#bd3786"
            ],
            [
             0.5555555555555556,
             "#d8576b"
            ],
            [
             0.6666666666666666,
             "#ed7953"
            ],
            [
             0.7777777777777778,
             "#fb9f3a"
            ],
            [
             0.8888888888888888,
             "#fdca26"
            ],
            [
             1,
             "#f0f921"
            ]
           ],
           "sequentialminus": [
            [
             0,
             "#0d0887"
            ],
            [
             0.1111111111111111,
             "#46039f"
            ],
            [
             0.2222222222222222,
             "#7201a8"
            ],
            [
             0.3333333333333333,
             "#9c179e"
            ],
            [
             0.4444444444444444,
             "#bd3786"
            ],
            [
             0.5555555555555556,
             "#d8576b"
            ],
            [
             0.6666666666666666,
             "#ed7953"
            ],
            [
             0.7777777777777778,
             "#fb9f3a"
            ],
            [
             0.8888888888888888,
             "#fdca26"
            ],
            [
             1,
             "#f0f921"
            ]
           ]
          },
          "colorway": [
           "#636efa",
           "#EF553B",
           "#00cc96",
           "#ab63fa",
           "#FFA15A",
           "#19d3f3",
           "#FF6692",
           "#B6E880",
           "#FF97FF",
           "#FECB52"
          ],
          "font": {
           "color": "#2a3f5f"
          },
          "geo": {
           "bgcolor": "white",
           "lakecolor": "white",
           "landcolor": "#E5ECF6",
           "showlakes": true,
           "showland": true,
           "subunitcolor": "white"
          },
          "hoverlabel": {
           "align": "left"
          },
          "hovermode": "closest",
          "mapbox": {
           "style": "light"
          },
          "paper_bgcolor": "white",
          "plot_bgcolor": "#E5ECF6",
          "polar": {
           "angularaxis": {
            "gridcolor": "white",
            "linecolor": "white",
            "ticks": ""
           },
           "bgcolor": "#E5ECF6",
           "radialaxis": {
            "gridcolor": "white",
            "linecolor": "white",
            "ticks": ""
           }
          },
          "scene": {
           "xaxis": {
            "backgroundcolor": "#E5ECF6",
            "gridcolor": "white",
            "gridwidth": 2,
            "linecolor": "white",
            "showbackground": true,
            "ticks": "",
            "zerolinecolor": "white"
           },
           "yaxis": {
            "backgroundcolor": "#E5ECF6",
            "gridcolor": "white",
            "gridwidth": 2,
            "linecolor": "white",
            "showbackground": true,
            "ticks": "",
            "zerolinecolor": "white"
           },
           "zaxis": {
            "backgroundcolor": "#E5ECF6",
            "gridcolor": "white",
            "gridwidth": 2,
            "linecolor": "white",
            "showbackground": true,
            "ticks": "",
            "zerolinecolor": "white"
           }
          },
          "shapedefaults": {
           "line": {
            "color": "#2a3f5f"
           }
          },
          "ternary": {
           "aaxis": {
            "gridcolor": "white",
            "linecolor": "white",
            "ticks": ""
           },
           "baxis": {
            "gridcolor": "white",
            "linecolor": "white",
            "ticks": ""
           },
           "bgcolor": "#E5ECF6",
           "caxis": {
            "gridcolor": "white",
            "linecolor": "white",
            "ticks": ""
           }
          },
          "title": {
           "x": 0.05
          },
          "xaxis": {
           "automargin": true,
           "gridcolor": "white",
           "linecolor": "white",
           "ticks": "",
           "title": {
            "standoff": 15
           },
           "zerolinecolor": "white",
           "zerolinewidth": 2
          },
          "yaxis": {
           "automargin": true,
           "gridcolor": "white",
           "linecolor": "white",
           "ticks": "",
           "title": {
            "standoff": 15
           },
           "zerolinecolor": "white",
           "zerolinewidth": 2
          }
         }
        },
        "xaxis": {
         "anchor": "y",
         "domain": [
          0,
          1
         ],
         "title": {
          "text": "PURCHASE_DT_1"
         }
        },
        "yaxis": {
         "anchor": "x",
         "domain": [
          0,
          1
         ],
         "title": {
          "text": "N_POLICIES"
         }
        }
       }
      }
     },
     "metadata": {},
     "output_type": "display_data"
    }
   ],
   "source": [
    "# Sales trend of Main Need by purchase date\n",
    "df_base_2['MAIN_NEED'].fillna('N/A', inplace=True)\n",
    "df_base_4 = (df_base_2.groupby(['MAIN_NEED', 'PURCHASE_DT_1'])\n",
    "                .agg(\n",
    "                    N_POLICIES=('POLICY_NO', 'nunique'),\n",
    "                    TOTAL_ANP=('ANP_RIDER', 'sum')\n",
    "                    )\n",
    "                .reset_index()\n",
    "             )\n",
    "\n",
    "fig = px.line(df_base_4, x=\"PURCHASE_DT_1\", y=\"N_POLICIES\", color=\"MAIN_NEED\")\n",
    "fig.show()"
   ]
  },
  {
   "cell_type": "code",
   "execution_count": 12,
   "metadata": {},
   "outputs": [
    {
     "data": {
      "application/vnd.plotly.v1+json": {
       "config": {
        "plotlyServerURL": "https://plot.ly"
       },
       "data": [
        {
         "hovertemplate": "MAIN_NEED=Accident<br>PURCHASE_DT_1=%{x}<br>TOTAL_ANP=%{y}<extra></extra>",
         "legendgroup": "Accident",
         "line": {
          "color": "#636efa",
          "dash": "solid"
         },
         "marker": {
          "symbol": "circle"
         },
         "mode": "lines",
         "name": "Accident",
         "orientation": "v",
         "showlegend": true,
         "type": "scatter",
         "x": [
          "201901",
          "201902",
          "201903",
          "201904",
          "201905",
          "201906",
          "201907",
          "201908",
          "201909",
          "201910",
          "201911",
          "201912",
          "202001",
          "202002",
          "202003",
          "202004",
          "202005",
          "202006",
          "202007",
          "202008",
          "202009",
          "202010",
          "202011",
          "202012",
          "202101",
          "202102",
          "202103"
         ],
         "xaxis": "x",
         "y": [
          33309.44140625,
          23293.650390625,
          34996.30859375,
          40118.37109375,
          42558.6796875,
          43622.78125,
          56033.51171875,
          44186.26953125,
          40043.0703125,
          27204.4609375,
          27094.19921875,
          50843.37109375,
          23927.390625,
          37394.171875,
          27700.650390625,
          13519.330078125,
          29493.01953125,
          46124.3203125,
          51803.2890625,
          55570.2421875,
          53408.73046875,
          65574.2578125,
          49243,
          41632.05078125,
          40810.30078125,
          34014.390625,
          0
         ],
         "yaxis": "y"
        },
        {
         "hovertemplate": "MAIN_NEED=Critical Illness<br>PURCHASE_DT_1=%{x}<br>TOTAL_ANP=%{y}<extra></extra>",
         "legendgroup": "Critical Illness",
         "line": {
          "color": "#EF553B",
          "dash": "solid"
         },
         "marker": {
          "symbol": "circle"
         },
         "mode": "lines",
         "name": "Critical Illness",
         "orientation": "v",
         "showlegend": true,
         "type": "scatter",
         "x": [
          "201901",
          "201902",
          "201903",
          "201904",
          "201905",
          "201906",
          "201907",
          "201908",
          "201909",
          "201910",
          "201911",
          "201912",
          "202001",
          "202002",
          "202003",
          "202004",
          "202005",
          "202006",
          "202007",
          "202008",
          "202009",
          "202010",
          "202011",
          "202012",
          "202101",
          "202102",
          "202103"
         ],
         "xaxis": "x",
         "y": [
          48505.48046875,
          66169.6328125,
          85301.7890625,
          47777.2109375,
          58068.5703125,
          128053.828125,
          66109.171875,
          60622.21875,
          52474.12890625,
          88772.453125,
          113448.0390625,
          93433.046875,
          37120.5703125,
          25111.3203125,
          27936.19921875,
          19805.830078125,
          11304.5703125,
          30489.509765625,
          41418.7109375,
          88709.046875,
          73713.2890625,
          62972.140625,
          67891.640625,
          90706.46875,
          65057.05078125,
          54054.2890625,
          0
         ],
         "yaxis": "y"
        },
        {
         "hovertemplate": "MAIN_NEED=Disability<br>PURCHASE_DT_1=%{x}<br>TOTAL_ANP=%{y}<extra></extra>",
         "legendgroup": "Disability",
         "line": {
          "color": "#00cc96",
          "dash": "solid"
         },
         "marker": {
          "symbol": "circle"
         },
         "mode": "lines",
         "name": "Disability",
         "orientation": "v",
         "showlegend": true,
         "type": "scatter",
         "x": [
          "201901",
          "201902",
          "201903",
          "201904",
          "201905",
          "201906",
          "201907",
          "201908",
          "201909",
          "201910",
          "201911",
          "201912",
          "202001",
          "202002",
          "202003",
          "202004",
          "202005",
          "202006",
          "202007",
          "202008",
          "202009",
          "202010",
          "202011",
          "202012",
          "202101",
          "202102",
          "202103",
          "202106"
         ],
         "xaxis": "x",
         "y": [
          247.4199981689453,
          90.73999786376953,
          381.5899963378906,
          223.27999877929688,
          173.64999389648438,
          272.30999755859375,
          509.45001220703125,
          453.67999267578125,
          924.5599975585938,
          501.8599853515625,
          515.47998046875,
          326.05999755859375,
          651.9500122070312,
          218.74000549316406,
          210.9199981689453,
          229.3800048828125,
          7121.64013671875,
          4364.43994140625,
          1212.3399658203125,
          456.7099914550781,
          541.5599975585938,
          602.1699829101562,
          914.9700317382812,
          699.7899780273438,
          706.3699951171875,
          371.8900146484375,
          0,
          0
         ],
         "yaxis": "y"
        },
        {
         "hovertemplate": "MAIN_NEED=Endowment<br>PURCHASE_DT_1=%{x}<br>TOTAL_ANP=%{y}<extra></extra>",
         "legendgroup": "Endowment",
         "line": {
          "color": "#ab63fa",
          "dash": "solid"
         },
         "marker": {
          "symbol": "circle"
         },
         "mode": "lines",
         "name": "Endowment",
         "orientation": "v",
         "showlegend": true,
         "type": "scatter",
         "x": [
          "201901",
          "201902",
          "201903",
          "201904",
          "201905",
          "201906",
          "201907",
          "201908",
          "201909",
          "201910",
          "201911",
          "201912",
          "202001",
          "202002",
          "202003",
          "202004",
          "202005",
          "202006",
          "202007",
          "202008",
          "202009",
          "202010",
          "202011",
          "202012",
          "202101",
          "202102"
         ],
         "xaxis": "x",
         "y": [
          26098.330078125,
          32775.8203125,
          72985.6015625,
          64847.33984375,
          59337.76953125,
          80072.171875,
          60897.76953125,
          36402.0703125,
          64338.30859375,
          47194.26171875,
          48686.05859375,
          43215.80078125,
          182830.328125,
          203368.625,
          40780.80078125,
          18613.369140625,
          27700.8203125,
          64122.08984375,
          102373.15625,
          69236.5859375,
          80144.421875,
          68765.546875,
          120772.5234375,
          90349.4765625,
          89493.578125,
          89165.5703125
         ],
         "yaxis": "y"
        },
        {
         "hovertemplate": "MAIN_NEED=Income<br>PURCHASE_DT_1=%{x}<br>TOTAL_ANP=%{y}<extra></extra>",
         "legendgroup": "Income",
         "line": {
          "color": "#FFA15A",
          "dash": "solid"
         },
         "marker": {
          "symbol": "circle"
         },
         "mode": "lines",
         "name": "Income",
         "orientation": "v",
         "showlegend": true,
         "type": "scatter",
         "x": [
          "201901",
          "201902",
          "201903",
          "201904",
          "201905",
          "201906",
          "201907",
          "201908",
          "201909",
          "201910",
          "201911",
          "201912",
          "202001",
          "202002",
          "202003",
          "202004",
          "202005",
          "202006",
          "202007",
          "202008",
          "202009",
          "202010",
          "202011",
          "202012",
          "202101",
          "202102"
         ],
         "xaxis": "x",
         "y": [
          172.9199981689453,
          237.60000610351562,
          646.3599853515625,
          498.760009765625,
          394.30999755859375,
          623.7999877929688,
          394.16998291015625,
          457.5899963378906,
          634.9600219726562,
          509.6000061035156,
          272.66998291015625,
          596.75,
          567.3900146484375,
          501.04998779296875,
          331.45001220703125,
          782.5899658203125,
          457.7300109863281,
          682.9600219726562,
          795.5499877929688,
          751.510009765625,
          945.0599975585938,
          892.969970703125,
          656.489990234375,
          1161.0899658203125,
          686.9099731445312,
          987.0299682617188
         ],
         "yaxis": "y"
        },
        {
         "hovertemplate": "MAIN_NEED=Life<br>PURCHASE_DT_1=%{x}<br>TOTAL_ANP=%{y}<extra></extra>",
         "legendgroup": "Life",
         "line": {
          "color": "#19d3f3",
          "dash": "solid"
         },
         "marker": {
          "symbol": "circle"
         },
         "mode": "lines",
         "name": "Life",
         "orientation": "v",
         "showlegend": true,
         "type": "scatter",
         "x": [
          "201901",
          "201902",
          "201903",
          "201904",
          "201905",
          "201906",
          "201907",
          "201908",
          "201909",
          "201910",
          "201911",
          "201912",
          "202001",
          "202002",
          "202003",
          "202004",
          "202005",
          "202006",
          "202007",
          "202008",
          "202009",
          "202010",
          "202011",
          "202012",
          "202101",
          "202102",
          "202103",
          "202104",
          "202105",
          "202106",
          "202107",
          "202108",
          "202109",
          "202110",
          "202111"
         ],
         "xaxis": "x",
         "y": [
          653301.5625,
          723234.5625,
          951402.125,
          681521.5,
          744441.5,
          1381702.375,
          823026.0625,
          639940.125,
          753882.875,
          993978.4375,
          869246.125,
          1046872.375,
          714228.3125,
          707155.8125,
          630344.75,
          336340.65625,
          652065.4375,
          967167.375,
          1160543.25,
          1064219.125,
          1166097.375,
          1150560.125,
          1097964.625,
          1656126.125,
          1033668.5625,
          954068.9375,
          2067,
          216,
          147.60000610351562,
          255,
          145,
          40,
          20,
          73.5999984741211,
          15
         ],
         "yaxis": "y"
        },
        {
         "hovertemplate": "MAIN_NEED=Medical<br>PURCHASE_DT_1=%{x}<br>TOTAL_ANP=%{y}<extra></extra>",
         "legendgroup": "Medical",
         "line": {
          "color": "#FF6692",
          "dash": "solid"
         },
         "marker": {
          "symbol": "circle"
         },
         "mode": "lines",
         "name": "Medical",
         "orientation": "v",
         "showlegend": true,
         "type": "scatter",
         "x": [
          "201901",
          "201902",
          "201903",
          "201904",
          "201905",
          "201906",
          "201907",
          "201908",
          "201909",
          "201910",
          "201911",
          "201912",
          "202001",
          "202002",
          "202003",
          "202004",
          "202005",
          "202006",
          "202007",
          "202008",
          "202009",
          "202010",
          "202011",
          "202012",
          "202101",
          "202102",
          "202103",
          "202105",
          "202106"
         ],
         "xaxis": "x",
         "y": [
          118373.7890625,
          112739.28125,
          159543.8125,
          147743.109375,
          123841.4609375,
          175316.828125,
          159298.46875,
          124146.1484375,
          137191,
          144438.078125,
          130114.5,
          202486.34375,
          118582.5,
          147487.953125,
          134701.671875,
          96873.0625,
          121223.1796875,
          153290.71875,
          304469.28125,
          305108.03125,
          437251.625,
          266842.28125,
          248559.484375,
          227287.546875,
          237305.28125,
          274361.6875,
          396.5,
          272.3999938964844,
          151.3000030517578
         ],
         "yaxis": "y"
        },
        {
         "hovertemplate": "MAIN_NEED=N/A<br>PURCHASE_DT_1=%{x}<br>TOTAL_ANP=%{y}<extra></extra>",
         "legendgroup": "N/A",
         "line": {
          "color": "#B6E880",
          "dash": "solid"
         },
         "marker": {
          "symbol": "circle"
         },
         "mode": "lines",
         "name": "N/A",
         "orientation": "v",
         "showlegend": true,
         "type": "scatter",
         "x": [
          "202007",
          "202008",
          "202009",
          "202010",
          "202011",
          "202012",
          "202101",
          "202102",
          "202111",
          "202112",
          "202201",
          "202203"
         ],
         "xaxis": "x",
         "y": [
          11100.7998046875,
          11907.2001953125,
          21416,
          107911.6015625,
          129447.921875,
          229078.796875,
          128220.65625,
          133327.546875,
          0,
          0,
          30,
          80.4000015258789
         ],
         "yaxis": "y"
        },
        {
         "hovertemplate": "MAIN_NEED=Other Medical<br>PURCHASE_DT_1=%{x}<br>TOTAL_ANP=%{y}<extra></extra>",
         "legendgroup": "Other Medical",
         "line": {
          "color": "#FF97FF",
          "dash": "solid"
         },
         "marker": {
          "symbol": "circle"
         },
         "mode": "lines",
         "name": "Other Medical",
         "orientation": "v",
         "showlegend": true,
         "type": "scatter",
         "x": [
          "201901",
          "201902",
          "201903",
          "201905",
          "201906",
          "201907",
          "201908",
          "201909",
          "201910",
          "201911",
          "201912",
          "202001",
          "202002",
          "202003",
          "202004",
          "202005",
          "202006",
          "202007",
          "202008",
          "202009",
          "202010",
          "202011",
          "202012",
          "202101",
          "202102",
          "202103"
         ],
         "xaxis": "x",
         "y": [
          120.16999816894531,
          54.5,
          62.779998779296875,
          851.5499877929688,
          64.9000015258789,
          229.3000030517578,
          150.1699981689453,
          111.31999969482422,
          326.1499938964844,
          103.0999984741211,
          1167.300048828125,
          109.19999694824219,
          87.16000366210938,
          111.55000305175781,
          0,
          0,
          0,
          0,
          30,
          173.52999877929688,
          251.04000854492188,
          375.92999267578125,
          22.399999618530273,
          30.459999084472656,
          171.98001098632812,
          0
         ],
         "yaxis": "y"
        },
        {
         "hovertemplate": "MAIN_NEED=Payor/Waiver<br>PURCHASE_DT_1=%{x}<br>TOTAL_ANP=%{y}<extra></extra>",
         "legendgroup": "Payor/Waiver",
         "line": {
          "color": "#FECB52",
          "dash": "solid"
         },
         "marker": {
          "symbol": "circle"
         },
         "mode": "lines",
         "name": "Payor/Waiver",
         "orientation": "v",
         "showlegend": true,
         "type": "scatter",
         "x": [
          "201901",
          "201902",
          "201903",
          "201904",
          "201905",
          "201906",
          "201907",
          "201908",
          "201909",
          "201910",
          "201911",
          "201912",
          "202001",
          "202002",
          "202003",
          "202004",
          "202005",
          "202006",
          "202007",
          "202008",
          "202009",
          "202010",
          "202011",
          "202012",
          "202101",
          "202102",
          "202103"
         ],
         "xaxis": "x",
         "y": [
          5951.06005859375,
          9606.6494140625,
          13802.8701171875,
          9470.4296875,
          8664.9404296875,
          17623.419921875,
          12950.25,
          6923.7802734375,
          9469.099609375,
          12537.3896484375,
          11143.8203125,
          15197.099609375,
          7566.3798828125,
          6833.9599609375,
          5315.97998046875,
          3123.739990234375,
          2580.419921875,
          5626.7900390625,
          7889.06982421875,
          6665.490234375,
          8910.6904296875,
          9774.9599609375,
          12529.98046875,
          19448.51953125,
          11039.4697265625,
          13723.509765625,
          0
         ],
         "yaxis": "y"
        },
        {
         "hovertemplate": "MAIN_NEED=Savers<br>PURCHASE_DT_1=%{x}<br>TOTAL_ANP=%{y}<extra></extra>",
         "legendgroup": "Savers",
         "line": {
          "color": "#636efa",
          "dash": "solid"
         },
         "marker": {
          "symbol": "circle"
         },
         "mode": "lines",
         "name": "Savers",
         "orientation": "v",
         "showlegend": true,
         "type": "scatter",
         "x": [
          "201901",
          "201902",
          "201903",
          "201904",
          "201905",
          "201906",
          "201907",
          "201908",
          "201909",
          "201910",
          "201911",
          "201912",
          "202001",
          "202002",
          "202003",
          "202004",
          "202005",
          "202006",
          "202007",
          "202008",
          "202009",
          "202010",
          "202011",
          "202012",
          "202101",
          "202102",
          "202103",
          "202104",
          "202106",
          "202107",
          "202108",
          "202109",
          "202110",
          "202111",
          "202112",
          "202201",
          "202202",
          "202204"
         ],
         "xaxis": "x",
         "y": [
          174503.578125,
          165054.359375,
          243372.75,
          180310.5625,
          177059.5,
          333368.6875,
          227735.546875,
          141731.796875,
          159678.4375,
          249513.640625,
          243650.296875,
          369515.3125,
          370857.1875,
          335071.09375,
          143594.640625,
          86723.7265625,
          99966.640625,
          215449.484375,
          355239.6875,
          315788.625,
          339042.09375,
          322308.53125,
          365166.3125,
          682082.125,
          259062.21875,
          287961.0625,
          170.39999389648438,
          4320,
          0,
          0,
          0,
          0,
          0,
          0,
          12,
          18,
          120,
          0
         ],
         "yaxis": "y"
        }
       ],
       "layout": {
        "legend": {
         "title": {
          "text": "MAIN_NEED"
         },
         "tracegroupgap": 0
        },
        "margin": {
         "t": 60
        },
        "template": {
         "data": {
          "bar": [
           {
            "error_x": {
             "color": "#2a3f5f"
            },
            "error_y": {
             "color": "#2a3f5f"
            },
            "marker": {
             "line": {
              "color": "#E5ECF6",
              "width": 0.5
             },
             "pattern": {
              "fillmode": "overlay",
              "size": 10,
              "solidity": 0.2
             }
            },
            "type": "bar"
           }
          ],
          "barpolar": [
           {
            "marker": {
             "line": {
              "color": "#E5ECF6",
              "width": 0.5
             },
             "pattern": {
              "fillmode": "overlay",
              "size": 10,
              "solidity": 0.2
             }
            },
            "type": "barpolar"
           }
          ],
          "carpet": [
           {
            "aaxis": {
             "endlinecolor": "#2a3f5f",
             "gridcolor": "white",
             "linecolor": "white",
             "minorgridcolor": "white",
             "startlinecolor": "#2a3f5f"
            },
            "baxis": {
             "endlinecolor": "#2a3f5f",
             "gridcolor": "white",
             "linecolor": "white",
             "minorgridcolor": "white",
             "startlinecolor": "#2a3f5f"
            },
            "type": "carpet"
           }
          ],
          "choropleth": [
           {
            "colorbar": {
             "outlinewidth": 0,
             "ticks": ""
            },
            "type": "choropleth"
           }
          ],
          "contour": [
           {
            "colorbar": {
             "outlinewidth": 0,
             "ticks": ""
            },
            "colorscale": [
             [
              0,
              "#0d0887"
             ],
             [
              0.1111111111111111,
              "#46039f"
             ],
             [
              0.2222222222222222,
              "#7201a8"
             ],
             [
              0.3333333333333333,
              "#9c179e"
             ],
             [
              0.4444444444444444,
              "#bd3786"
             ],
             [
              0.5555555555555556,
              "#d8576b"
             ],
             [
              0.6666666666666666,
              "#ed7953"
             ],
             [
              0.7777777777777778,
              "#fb9f3a"
             ],
             [
              0.8888888888888888,
              "#fdca26"
             ],
             [
              1,
              "#f0f921"
             ]
            ],
            "type": "contour"
           }
          ],
          "contourcarpet": [
           {
            "colorbar": {
             "outlinewidth": 0,
             "ticks": ""
            },
            "type": "contourcarpet"
           }
          ],
          "heatmap": [
           {
            "colorbar": {
             "outlinewidth": 0,
             "ticks": ""
            },
            "colorscale": [
             [
              0,
              "#0d0887"
             ],
             [
              0.1111111111111111,
              "#46039f"
             ],
             [
              0.2222222222222222,
              "#7201a8"
             ],
             [
              0.3333333333333333,
              "#9c179e"
             ],
             [
              0.4444444444444444,
              "#bd3786"
             ],
             [
              0.5555555555555556,
              "#d8576b"
             ],
             [
              0.6666666666666666,
              "#ed7953"
             ],
             [
              0.7777777777777778,
              "#fb9f3a"
             ],
             [
              0.8888888888888888,
              "#fdca26"
             ],
             [
              1,
              "#f0f921"
             ]
            ],
            "type": "heatmap"
           }
          ],
          "heatmapgl": [
           {
            "colorbar": {
             "outlinewidth": 0,
             "ticks": ""
            },
            "colorscale": [
             [
              0,
              "#0d0887"
             ],
             [
              0.1111111111111111,
              "#46039f"
             ],
             [
              0.2222222222222222,
              "#7201a8"
             ],
             [
              0.3333333333333333,
              "#9c179e"
             ],
             [
              0.4444444444444444,
              "#bd3786"
             ],
             [
              0.5555555555555556,
              "#d8576b"
             ],
             [
              0.6666666666666666,
              "#ed7953"
             ],
             [
              0.7777777777777778,
              "#fb9f3a"
             ],
             [
              0.8888888888888888,
              "#fdca26"
             ],
             [
              1,
              "#f0f921"
             ]
            ],
            "type": "heatmapgl"
           }
          ],
          "histogram": [
           {
            "marker": {
             "pattern": {
              "fillmode": "overlay",
              "size": 10,
              "solidity": 0.2
             }
            },
            "type": "histogram"
           }
          ],
          "histogram2d": [
           {
            "colorbar": {
             "outlinewidth": 0,
             "ticks": ""
            },
            "colorscale": [
             [
              0,
              "#0d0887"
             ],
             [
              0.1111111111111111,
              "#46039f"
             ],
             [
              0.2222222222222222,
              "#7201a8"
             ],
             [
              0.3333333333333333,
              "#9c179e"
             ],
             [
              0.4444444444444444,
              "#bd3786"
             ],
             [
              0.5555555555555556,
              "#d8576b"
             ],
             [
              0.6666666666666666,
              "#ed7953"
             ],
             [
              0.7777777777777778,
              "#fb9f3a"
             ],
             [
              0.8888888888888888,
              "#fdca26"
             ],
             [
              1,
              "#f0f921"
             ]
            ],
            "type": "histogram2d"
           }
          ],
          "histogram2dcontour": [
           {
            "colorbar": {
             "outlinewidth": 0,
             "ticks": ""
            },
            "colorscale": [
             [
              0,
              "#0d0887"
             ],
             [
              0.1111111111111111,
              "#46039f"
             ],
             [
              0.2222222222222222,
              "#7201a8"
             ],
             [
              0.3333333333333333,
              "#9c179e"
             ],
             [
              0.4444444444444444,
              "#bd3786"
             ],
             [
              0.5555555555555556,
              "#d8576b"
             ],
             [
              0.6666666666666666,
              "#ed7953"
             ],
             [
              0.7777777777777778,
              "#fb9f3a"
             ],
             [
              0.8888888888888888,
              "#fdca26"
             ],
             [
              1,
              "#f0f921"
             ]
            ],
            "type": "histogram2dcontour"
           }
          ],
          "mesh3d": [
           {
            "colorbar": {
             "outlinewidth": 0,
             "ticks": ""
            },
            "type": "mesh3d"
           }
          ],
          "parcoords": [
           {
            "line": {
             "colorbar": {
              "outlinewidth": 0,
              "ticks": ""
             }
            },
            "type": "parcoords"
           }
          ],
          "pie": [
           {
            "automargin": true,
            "type": "pie"
           }
          ],
          "scatter": [
           {
            "fillpattern": {
             "fillmode": "overlay",
             "size": 10,
             "solidity": 0.2
            },
            "type": "scatter"
           }
          ],
          "scatter3d": [
           {
            "line": {
             "colorbar": {
              "outlinewidth": 0,
              "ticks": ""
             }
            },
            "marker": {
             "colorbar": {
              "outlinewidth": 0,
              "ticks": ""
             }
            },
            "type": "scatter3d"
           }
          ],
          "scattercarpet": [
           {
            "marker": {
             "colorbar": {
              "outlinewidth": 0,
              "ticks": ""
             }
            },
            "type": "scattercarpet"
           }
          ],
          "scattergeo": [
           {
            "marker": {
             "colorbar": {
              "outlinewidth": 0,
              "ticks": ""
             }
            },
            "type": "scattergeo"
           }
          ],
          "scattergl": [
           {
            "marker": {
             "colorbar": {
              "outlinewidth": 0,
              "ticks": ""
             }
            },
            "type": "scattergl"
           }
          ],
          "scattermapbox": [
           {
            "marker": {
             "colorbar": {
              "outlinewidth": 0,
              "ticks": ""
             }
            },
            "type": "scattermapbox"
           }
          ],
          "scatterpolar": [
           {
            "marker": {
             "colorbar": {
              "outlinewidth": 0,
              "ticks": ""
             }
            },
            "type": "scatterpolar"
           }
          ],
          "scatterpolargl": [
           {
            "marker": {
             "colorbar": {
              "outlinewidth": 0,
              "ticks": ""
             }
            },
            "type": "scatterpolargl"
           }
          ],
          "scatterternary": [
           {
            "marker": {
             "colorbar": {
              "outlinewidth": 0,
              "ticks": ""
             }
            },
            "type": "scatterternary"
           }
          ],
          "surface": [
           {
            "colorbar": {
             "outlinewidth": 0,
             "ticks": ""
            },
            "colorscale": [
             [
              0,
              "#0d0887"
             ],
             [
              0.1111111111111111,
              "#46039f"
             ],
             [
              0.2222222222222222,
              "#7201a8"
             ],
             [
              0.3333333333333333,
              "#9c179e"
             ],
             [
              0.4444444444444444,
              "#bd3786"
             ],
             [
              0.5555555555555556,
              "#d8576b"
             ],
             [
              0.6666666666666666,
              "#ed7953"
             ],
             [
              0.7777777777777778,
              "#fb9f3a"
             ],
             [
              0.8888888888888888,
              "#fdca26"
             ],
             [
              1,
              "#f0f921"
             ]
            ],
            "type": "surface"
           }
          ],
          "table": [
           {
            "cells": {
             "fill": {
              "color": "#EBF0F8"
             },
             "line": {
              "color": "white"
             }
            },
            "header": {
             "fill": {
              "color": "#C8D4E3"
             },
             "line": {
              "color": "white"
             }
            },
            "type": "table"
           }
          ]
         },
         "layout": {
          "annotationdefaults": {
           "arrowcolor": "#2a3f5f",
           "arrowhead": 0,
           "arrowwidth": 1
          },
          "autotypenumbers": "strict",
          "coloraxis": {
           "colorbar": {
            "outlinewidth": 0,
            "ticks": ""
           }
          },
          "colorscale": {
           "diverging": [
            [
             0,
             "#8e0152"
            ],
            [
             0.1,
             "#c51b7d"
            ],
            [
             0.2,
             "#de77ae"
            ],
            [
             0.3,
             "#f1b6da"
            ],
            [
             0.4,
             "#fde0ef"
            ],
            [
             0.5,
             "#f7f7f7"
            ],
            [
             0.6,
             "#e6f5d0"
            ],
            [
             0.7,
             "#b8e186"
            ],
            [
             0.8,
             "#7fbc41"
            ],
            [
             0.9,
             "#4d9221"
            ],
            [
             1,
             "#276419"
            ]
           ],
           "sequential": [
            [
             0,
             "#0d0887"
            ],
            [
             0.1111111111111111,
             "#46039f"
            ],
            [
             0.2222222222222222,
             "#7201a8"
            ],
            [
             0.3333333333333333,
             "#9c179e"
            ],
            [
             0.4444444444444444,
             "#bd3786"
            ],
            [
             0.5555555555555556,
             "#d8576b"
            ],
            [
             0.6666666666666666,
             "#ed7953"
            ],
            [
             0.7777777777777778,
             "#fb9f3a"
            ],
            [
             0.8888888888888888,
             "#fdca26"
            ],
            [
             1,
             "#f0f921"
            ]
           ],
           "sequentialminus": [
            [
             0,
             "#0d0887"
            ],
            [
             0.1111111111111111,
             "#46039f"
            ],
            [
             0.2222222222222222,
             "#7201a8"
            ],
            [
             0.3333333333333333,
             "#9c179e"
            ],
            [
             0.4444444444444444,
             "#bd3786"
            ],
            [
             0.5555555555555556,
             "#d8576b"
            ],
            [
             0.6666666666666666,
             "#ed7953"
            ],
            [
             0.7777777777777778,
             "#fb9f3a"
            ],
            [
             0.8888888888888888,
             "#fdca26"
            ],
            [
             1,
             "#f0f921"
            ]
           ]
          },
          "colorway": [
           "#636efa",
           "#EF553B",
           "#00cc96",
           "#ab63fa",
           "#FFA15A",
           "#19d3f3",
           "#FF6692",
           "#B6E880",
           "#FF97FF",
           "#FECB52"
          ],
          "font": {
           "color": "#2a3f5f"
          },
          "geo": {
           "bgcolor": "white",
           "lakecolor": "white",
           "landcolor": "#E5ECF6",
           "showlakes": true,
           "showland": true,
           "subunitcolor": "white"
          },
          "hoverlabel": {
           "align": "left"
          },
          "hovermode": "closest",
          "mapbox": {
           "style": "light"
          },
          "paper_bgcolor": "white",
          "plot_bgcolor": "#E5ECF6",
          "polar": {
           "angularaxis": {
            "gridcolor": "white",
            "linecolor": "white",
            "ticks": ""
           },
           "bgcolor": "#E5ECF6",
           "radialaxis": {
            "gridcolor": "white",
            "linecolor": "white",
            "ticks": ""
           }
          },
          "scene": {
           "xaxis": {
            "backgroundcolor": "#E5ECF6",
            "gridcolor": "white",
            "gridwidth": 2,
            "linecolor": "white",
            "showbackground": true,
            "ticks": "",
            "zerolinecolor": "white"
           },
           "yaxis": {
            "backgroundcolor": "#E5ECF6",
            "gridcolor": "white",
            "gridwidth": 2,
            "linecolor": "white",
            "showbackground": true,
            "ticks": "",
            "zerolinecolor": "white"
           },
           "zaxis": {
            "backgroundcolor": "#E5ECF6",
            "gridcolor": "white",
            "gridwidth": 2,
            "linecolor": "white",
            "showbackground": true,
            "ticks": "",
            "zerolinecolor": "white"
           }
          },
          "shapedefaults": {
           "line": {
            "color": "#2a3f5f"
           }
          },
          "ternary": {
           "aaxis": {
            "gridcolor": "white",
            "linecolor": "white",
            "ticks": ""
           },
           "baxis": {
            "gridcolor": "white",
            "linecolor": "white",
            "ticks": ""
           },
           "bgcolor": "#E5ECF6",
           "caxis": {
            "gridcolor": "white",
            "linecolor": "white",
            "ticks": ""
           }
          },
          "title": {
           "x": 0.05
          },
          "xaxis": {
           "automargin": true,
           "gridcolor": "white",
           "linecolor": "white",
           "ticks": "",
           "title": {
            "standoff": 15
           },
           "zerolinecolor": "white",
           "zerolinewidth": 2
          },
          "yaxis": {
           "automargin": true,
           "gridcolor": "white",
           "linecolor": "white",
           "ticks": "",
           "title": {
            "standoff": 15
           },
           "zerolinecolor": "white",
           "zerolinewidth": 2
          }
         }
        },
        "xaxis": {
         "anchor": "y",
         "domain": [
          0,
          1
         ],
         "title": {
          "text": "PURCHASE_DT_1"
         }
        },
        "yaxis": {
         "anchor": "x",
         "domain": [
          0,
          1
         ],
         "title": {
          "text": "TOTAL_ANP"
         }
        }
       }
      }
     },
     "metadata": {},
     "output_type": "display_data"
    }
   ],
   "source": [
    "fig = px.line(df_base_4, x=\"PURCHASE_DT_1\", y=\"TOTAL_ANP\", color=\"MAIN_NEED\")\n",
    "fig.show()"
   ]
  },
  {
   "cell_type": "markdown",
   "metadata": {},
   "source": [
    "## Questions"
   ]
  },
  {
   "cell_type": "code",
   "execution_count": 13,
   "metadata": {},
   "outputs": [
    {
     "data": {
      "text/html": [
       "<div>\n",
       "<style scoped>\n",
       "    .dataframe tbody tr th:only-of-type {\n",
       "        vertical-align: middle;\n",
       "    }\n",
       "\n",
       "    .dataframe tbody tr th {\n",
       "        vertical-align: top;\n",
       "    }\n",
       "\n",
       "    .dataframe thead th {\n",
       "        text-align: right;\n",
       "    }\n",
       "</style>\n",
       "<table border=\"1\" class=\"dataframe\">\n",
       "  <thead>\n",
       "    <tr style=\"text-align: right;\">\n",
       "      <th></th>\n",
       "      <th>N_POLICIES</th>\n",
       "      <th>TOTAL_ANP</th>\n",
       "    </tr>\n",
       "    <tr>\n",
       "      <th>PROD_CAT</th>\n",
       "      <th></th>\n",
       "      <th></th>\n",
       "    </tr>\n",
       "  </thead>\n",
       "  <tbody>\n",
       "    <tr>\n",
       "      <th>Cat 1</th>\n",
       "      <td>11765</td>\n",
       "      <td>10232935.0</td>\n",
       "    </tr>\n",
       "    <tr>\n",
       "      <th>Cat 2</th>\n",
       "      <td>59499</td>\n",
       "      <td>5300201.5</td>\n",
       "    </tr>\n",
       "    <tr>\n",
       "      <th>Cat 3</th>\n",
       "      <td>101787</td>\n",
       "      <td>25273960.0</td>\n",
       "    </tr>\n",
       "  </tbody>\n",
       "</table>\n",
       "</div>"
      ],
      "text/plain": [
       "          N_POLICIES   TOTAL_ANP\n",
       "PROD_CAT                        \n",
       "Cat 1          11765  10232935.0\n",
       "Cat 2          59499   5300201.5\n",
       "Cat 3         101787  25273960.0"
      ]
     },
     "execution_count": 13,
     "metadata": {},
     "output_type": "execute_result"
    }
   ],
   "source": [
    "# No. of Policies and Total ANP by Product Category\n",
    "(df_base_1.groupby(['PROD_CAT'])\n",
    "    .agg(\n",
    "        N_POLICIES=('POLICY_NO', 'nunique'),\n",
    "        TOTAL_ANP=('ANP_RIDER', 'sum')\n",
    "        )\n",
    "    )"
   ]
  },
  {
   "cell_type": "code",
   "execution_count": 14,
   "metadata": {},
   "outputs": [
    {
     "name": "stdout",
     "output_type": "stream",
     "text": [
      "No. of agents: 1070 (33.1%)\n"
     ]
    }
   ],
   "source": [
    "# No. of agents who sold at least 5 Vitality attached policies\n",
    "df_vit = df_base_1[df_base_1['VIT_MBR_IND'] == 1]\n",
    "\n",
    "df_vit_1 = (df_vit.groupby(['AGT_CD'])\n",
    "        .agg(\n",
    "            N_VIT_POLICIES=('POLICY_NO', 'nunique'),\n",
    "            )\n",
    "        .reset_index()\n",
    ")\n",
    "\n",
    "df_vit_2 = df_vit_1[df_vit_1['N_VIT_POLICIES'] >= 5]\n",
    "\n",
    "num = len(df_vit_2['AGT_CD'])\n",
    "dem = df_base_1['AGT_CD'].nunique()\n",
    "\n",
    "print(f'No. of agents: {num} ({num/dem:.1%})')"
   ]
  },
  {
   "cell_type": "code",
   "execution_count": 15,
   "metadata": {},
   "outputs": [
    {
     "name": "stdout",
     "output_type": "stream",
     "text": [
      "No. of policies: 59046 (47.2%)\n"
     ]
    }
   ],
   "source": [
    "# No. of policies with at least 3 Riders attached\n",
    "df_pol_1 = (df_base_1.groupby(['POLICY_NO'])\n",
    "                .apply(lambda x: x[x['COVERAGE_TYPE_IND'] == 'R']['COVERAGE_TYPE_IND'].count())\n",
    "                .reset_index(name='N_RIDERS')\n",
    "            )\n",
    "\n",
    "df_pol_2 = df_pol_1[df_pol_1['N_RIDERS'] >= 3]\n",
    "\n",
    "num = len(df_pol_2['POLICY_NO'])\n",
    "dem = df_base_1['POLICY_NO'].nunique()\n",
    "\n",
    "print(f'No. of policies: {num} ({num/dem:.1%})')"
   ]
  },
  {
   "cell_type": "markdown",
   "metadata": {},
   "source": [
    "## EDA on Agent level data"
   ]
  },
  {
   "cell_type": "code",
   "execution_count": 5,
   "metadata": {},
   "outputs": [
    {
     "name": "stdout",
     "output_type": "stream",
     "text": [
      "(3231, 60)\n"
     ]
    }
   ],
   "source": [
    "df_agt_f = preprocess.preprocess_agent_level(df_base_1)\n",
    "\n",
    "print(df_agt_f.shape)"
   ]
  },
  {
   "cell_type": "code",
   "execution_count": 6,
   "metadata": {},
   "outputs": [
    {
     "data": {
      "text/html": [
       "<div>\n",
       "<style scoped>\n",
       "    .dataframe tbody tr th:only-of-type {\n",
       "        vertical-align: middle;\n",
       "    }\n",
       "\n",
       "    .dataframe tbody tr th {\n",
       "        vertical-align: top;\n",
       "    }\n",
       "\n",
       "    .dataframe thead th {\n",
       "        text-align: right;\n",
       "    }\n",
       "</style>\n",
       "<table border=\"1\" class=\"dataframe\">\n",
       "  <thead>\n",
       "    <tr style=\"text-align: right;\">\n",
       "      <th></th>\n",
       "      <th>AGT_CD</th>\n",
       "      <th>N_POLICIES_LA</th>\n",
       "      <th>N_POLICIES_LAT</th>\n",
       "      <th>N_POLICIES_POLA</th>\n",
       "      <th>TOTAL_ANP_LA</th>\n",
       "      <th>TOTAL_ANP_LAT</th>\n",
       "      <th>TOTAL_ANP_POLA</th>\n",
       "      <th>TOTAL_POLICIES</th>\n",
       "      <th>TOTAL_ANP</th>\n",
       "      <th>TICKET_SIZE</th>\n",
       "      <th>...</th>\n",
       "      <th>TOTAL_ANP_Disability</th>\n",
       "      <th>TOTAL_ANP_Endowment</th>\n",
       "      <th>TOTAL_ANP_Income</th>\n",
       "      <th>TOTAL_ANP_Life</th>\n",
       "      <th>TOTAL_ANP_Medical</th>\n",
       "      <th>TOTAL_ANP_N/A</th>\n",
       "      <th>TOTAL_ANP_Other Medical</th>\n",
       "      <th>TOTAL_ANP_Payor/Waiver</th>\n",
       "      <th>TOTAL_ANP_Savers</th>\n",
       "      <th>COUNT_MAINNEED_TYPE</th>\n",
       "    </tr>\n",
       "  </thead>\n",
       "  <tbody>\n",
       "    <tr>\n",
       "      <th>0</th>\n",
       "      <td>1</td>\n",
       "      <td>286.0</td>\n",
       "      <td>NaN</td>\n",
       "      <td>NaN</td>\n",
       "      <td>21206.500000</td>\n",
       "      <td>NaN</td>\n",
       "      <td>NaN</td>\n",
       "      <td>286.0</td>\n",
       "      <td>21206.500000</td>\n",
       "      <td>74.148601</td>\n",
       "      <td>...</td>\n",
       "      <td>56.82</td>\n",
       "      <td>1179.030029</td>\n",
       "      <td>NaN</td>\n",
       "      <td>16948.480469</td>\n",
       "      <td>309.899994</td>\n",
       "      <td>NaN</td>\n",
       "      <td>0.0</td>\n",
       "      <td>140.559998</td>\n",
       "      <td>818.489990</td>\n",
       "      <td>8</td>\n",
       "    </tr>\n",
       "    <tr>\n",
       "      <th>1</th>\n",
       "      <td>10</td>\n",
       "      <td>850.0</td>\n",
       "      <td>44.0</td>\n",
       "      <td>22.0</td>\n",
       "      <td>72481.078125</td>\n",
       "      <td>3377.250000</td>\n",
       "      <td>1235.77002</td>\n",
       "      <td>916.0</td>\n",
       "      <td>77094.098145</td>\n",
       "      <td>84.163863</td>\n",
       "      <td>...</td>\n",
       "      <td>0.00</td>\n",
       "      <td>4407.870117</td>\n",
       "      <td>30.0</td>\n",
       "      <td>31464.000000</td>\n",
       "      <td>10808.160156</td>\n",
       "      <td>NaN</td>\n",
       "      <td>0.0</td>\n",
       "      <td>303.619995</td>\n",
       "      <td>28844.679688</td>\n",
       "      <td>10</td>\n",
       "    </tr>\n",
       "    <tr>\n",
       "      <th>2</th>\n",
       "      <td>1000</td>\n",
       "      <td>367.0</td>\n",
       "      <td>19.0</td>\n",
       "      <td>NaN</td>\n",
       "      <td>62478.058594</td>\n",
       "      <td>7710.850098</td>\n",
       "      <td>NaN</td>\n",
       "      <td>386.0</td>\n",
       "      <td>70188.908691</td>\n",
       "      <td>181.836551</td>\n",
       "      <td>...</td>\n",
       "      <td>0.00</td>\n",
       "      <td>14967.559570</td>\n",
       "      <td>0.0</td>\n",
       "      <td>32893.421875</td>\n",
       "      <td>332.779999</td>\n",
       "      <td>NaN</td>\n",
       "      <td>0.0</td>\n",
       "      <td>328.989990</td>\n",
       "      <td>18804.789062</td>\n",
       "      <td>9</td>\n",
       "    </tr>\n",
       "    <tr>\n",
       "      <th>3</th>\n",
       "      <td>1001</td>\n",
       "      <td>235.0</td>\n",
       "      <td>NaN</td>\n",
       "      <td>NaN</td>\n",
       "      <td>18381.490234</td>\n",
       "      <td>NaN</td>\n",
       "      <td>NaN</td>\n",
       "      <td>235.0</td>\n",
       "      <td>18381.490234</td>\n",
       "      <td>78.219107</td>\n",
       "      <td>...</td>\n",
       "      <td>0.00</td>\n",
       "      <td>1239.030029</td>\n",
       "      <td>0.0</td>\n",
       "      <td>11181.400391</td>\n",
       "      <td>3769.550049</td>\n",
       "      <td>NaN</td>\n",
       "      <td>0.0</td>\n",
       "      <td>98.089996</td>\n",
       "      <td>1509.020020</td>\n",
       "      <td>9</td>\n",
       "    </tr>\n",
       "    <tr>\n",
       "      <th>4</th>\n",
       "      <td>1002</td>\n",
       "      <td>NaN</td>\n",
       "      <td>429.0</td>\n",
       "      <td>NaN</td>\n",
       "      <td>NaN</td>\n",
       "      <td>32215.369141</td>\n",
       "      <td>NaN</td>\n",
       "      <td>429.0</td>\n",
       "      <td>32215.369141</td>\n",
       "      <td>75.094101</td>\n",
       "      <td>...</td>\n",
       "      <td>0.00</td>\n",
       "      <td>3438.030029</td>\n",
       "      <td>NaN</td>\n",
       "      <td>17138.800781</td>\n",
       "      <td>2315.360107</td>\n",
       "      <td>3168.800049</td>\n",
       "      <td>NaN</td>\n",
       "      <td>1249.300049</td>\n",
       "      <td>2440.639893</td>\n",
       "      <td>8</td>\n",
       "    </tr>\n",
       "  </tbody>\n",
       "</table>\n",
       "<p>5 rows × 60 columns</p>\n",
       "</div>"
      ],
      "text/plain": [
       "  AGT_CD  N_POLICIES_LA  N_POLICIES_LAT  N_POLICIES_POLA  TOTAL_ANP_LA  \\\n",
       "0      1          286.0             NaN              NaN  21206.500000   \n",
       "1     10          850.0            44.0             22.0  72481.078125   \n",
       "2   1000          367.0            19.0              NaN  62478.058594   \n",
       "3   1001          235.0             NaN              NaN  18381.490234   \n",
       "4   1002            NaN           429.0              NaN           NaN   \n",
       "\n",
       "   TOTAL_ANP_LAT  TOTAL_ANP_POLA  TOTAL_POLICIES     TOTAL_ANP  TICKET_SIZE  \\\n",
       "0            NaN             NaN           286.0  21206.500000    74.148601   \n",
       "1    3377.250000      1235.77002           916.0  77094.098145    84.163863   \n",
       "2    7710.850098             NaN           386.0  70188.908691   181.836551   \n",
       "3            NaN             NaN           235.0  18381.490234    78.219107   \n",
       "4   32215.369141             NaN           429.0  32215.369141    75.094101   \n",
       "\n",
       "   ...  TOTAL_ANP_Disability  TOTAL_ANP_Endowment  TOTAL_ANP_Income  \\\n",
       "0  ...                 56.82          1179.030029               NaN   \n",
       "1  ...                  0.00          4407.870117              30.0   \n",
       "2  ...                  0.00         14967.559570               0.0   \n",
       "3  ...                  0.00          1239.030029               0.0   \n",
       "4  ...                  0.00          3438.030029               NaN   \n",
       "\n",
       "   TOTAL_ANP_Life  TOTAL_ANP_Medical  TOTAL_ANP_N/A  TOTAL_ANP_Other Medical  \\\n",
       "0    16948.480469         309.899994            NaN                      0.0   \n",
       "1    31464.000000       10808.160156            NaN                      0.0   \n",
       "2    32893.421875         332.779999            NaN                      0.0   \n",
       "3    11181.400391        3769.550049            NaN                      0.0   \n",
       "4    17138.800781        2315.360107    3168.800049                      NaN   \n",
       "\n",
       "   TOTAL_ANP_Payor/Waiver  TOTAL_ANP_Savers  COUNT_MAINNEED_TYPE  \n",
       "0              140.559998        818.489990                    8  \n",
       "1              303.619995      28844.679688                   10  \n",
       "2              328.989990      18804.789062                    9  \n",
       "3               98.089996       1509.020020                    9  \n",
       "4             1249.300049       2440.639893                    8  \n",
       "\n",
       "[5 rows x 60 columns]"
      ]
     },
     "execution_count": 6,
     "metadata": {},
     "output_type": "execute_result"
    }
   ],
   "source": [
    "df_agt_f.head()"
   ]
  },
  {
   "cell_type": "code",
   "execution_count": 7,
   "metadata": {},
   "outputs": [
    {
     "data": {
      "text/plain": [
       "Index(['AGT_CD', 'N_POLICIES_LA', 'N_POLICIES_LAT', 'N_POLICIES_POLA',\n",
       "       'TOTAL_ANP_LA', 'TOTAL_ANP_LAT', 'TOTAL_ANP_POLA', 'TOTAL_POLICIES',\n",
       "       'TOTAL_ANP', 'TICKET_SIZE', 'COUNT_RATIO_LA', 'COUNT_RATIO_LAT',\n",
       "       'COUNT_RATIO_POLA', 'ANP_RATIO_LA', 'ANP_RATIO_LAT', 'ANP_RATIO_POLA',\n",
       "       'COUNT_SBASE_TYPE', 'N_LINE_ITEM_B', 'N_LINE_ITEM_R', 'TOTAL_ANP_B',\n",
       "       'TOTAL_ANP_R', 'R_B_COUNT_RATIO', 'R_B_ANP_RATIO', 'N_LINE_ITEM_Cat 1',\n",
       "       'N_LINE_ITEM_Cat 2', 'N_LINE_ITEM_Cat 3', 'TOTAL_ANP_Cat 1',\n",
       "       'TOTAL_ANP_Cat 2', 'TOTAL_ANP_Cat 3', 'COUNT_RATIO_CAT1',\n",
       "       'COUNT_RATIO_CAT2', 'COUNT_RATIO_CAT3', 'ANP_RATIO_CAT1',\n",
       "       'ANP_RATIO_CAT2', 'ANP_RATIO_CAT3', 'COUNT_PRODCAT_TYPE',\n",
       "       'N_VIT_POLICIES', 'N_LINE_ITEM_Accident',\n",
       "       'N_LINE_ITEM_Critical Illness', 'N_LINE_ITEM_Disability',\n",
       "       'N_LINE_ITEM_Endowment', 'N_LINE_ITEM_Income', 'N_LINE_ITEM_Life',\n",
       "       'N_LINE_ITEM_Medical', 'N_LINE_ITEM_N/A', 'N_LINE_ITEM_Other Medical',\n",
       "       'N_LINE_ITEM_Payor/Waiver', 'N_LINE_ITEM_Savers', 'TOTAL_ANP_Accident',\n",
       "       'TOTAL_ANP_Critical Illness', 'TOTAL_ANP_Disability',\n",
       "       'TOTAL_ANP_Endowment', 'TOTAL_ANP_Income', 'TOTAL_ANP_Life',\n",
       "       'TOTAL_ANP_Medical', 'TOTAL_ANP_N/A', 'TOTAL_ANP_Other Medical',\n",
       "       'TOTAL_ANP_Payor/Waiver', 'TOTAL_ANP_Savers', 'COUNT_MAINNEED_TYPE'],\n",
       "      dtype='object')"
      ]
     },
     "execution_count": 7,
     "metadata": {},
     "output_type": "execute_result"
    }
   ],
   "source": [
    "df_agt_f.columns"
   ]
  },
  {
   "cell_type": "code",
   "execution_count": null,
   "metadata": {},
   "outputs": [],
   "source": [
    "# Run Sweetviz EDA\n",
    "sv_report = sv.analyze(df_agt_f)\n",
    "sv_report.show_html(os.path.join(ARTIFACTS_DIR, 'sv_report_df_agt_f.html'))"
   ]
  },
  {
   "cell_type": "code",
   "execution_count": 8,
   "metadata": {},
   "outputs": [
    {
     "name": "stderr",
     "output_type": "stream",
     "text": [
      "c:\\Users\\benja\\Anaconda3\\lib\\site-packages\\seaborn\\matrix.py:654: UserWarning: Clustering large matrix with scipy. Installing `fastcluster` may give better performance.\n",
      "  warnings.warn(msg)\n"
     ]
    },
    {
     "data": {
      "text/plain": [
       "<seaborn.matrix.ClusterGrid at 0x258689700d0>"
      ]
     },
     "execution_count": 8,
     "metadata": {},
     "output_type": "execute_result"
    },
    {
     "data": {
      "image/png": "[encoded data removed]",
      "text/plain": [
       "<Figure size 1152x576 with 4 Axes>"
      ]
     },
     "metadata": {
      "needs_background": "light"
     },
     "output_type": "display_data"
    }
   ],
   "source": [
    "df_agt_f1 = df_agt_f.copy()\n",
    "df_agt_f1.fillna(0, inplace=True)\n",
    "df_agt_f1.drop('AGT_CD', axis=1, inplace=True)\n",
    "# df_agt_f1 = df_agt_f1[[\n",
    "#        'COUNT_RATIO_LA', 'COUNT_RATIO_LAT', 'COUNT_RATIO_POLA',\n",
    "#        'ANP_RATIO_LA', 'ANP_RATIO_LAT', 'ANP_RATIO_POLA', 'R_B_COUNT_RATIO', 'COUNT_RATIO_CAT1', 'COUNT_RATIO_CAT2',\n",
    "#        'COUNT_RATIO_CAT3', 'ANP_RATIO_CAT1', 'ANP_RATIO_CAT2',\n",
    "#        'ANP_RATIO_CAT3', 'TOTAL_ANP_LA', 'TOTAL_ANP_LAT', 'TOTAL_ANP_Cat 3']]\n",
    "\n",
    "sns.clustermap(df_agt_f1,\n",
    "               figsize=(16, 8),\n",
    "               standard_scale=1,\n",
    "              #  z_score=1,\n",
    ")"
   ]
  },
  {
   "cell_type": "code",
   "execution_count": null,
   "metadata": {},
   "outputs": [],
   "source": []
  }
 ],
 "metadata": {
  "kernelspec": {
   "display_name": "Python 3.8.12 ('base')",
   "language": "python",
   "name": "python3"
  },
  "language_info": {
   "codemirror_mode": {
    "name": "ipython",
    "version": 3
   },
   "file_extension": ".py",
   "mimetype": "text/x-python",
   "name": "python",
   "nbconvert_exporter": "python",
   "pygments_lexer": "ipython3",
   "version": "3.8.12"
  },
  "orig_nbformat": 4,
  "vscode": {
   "interpreter": {
    "hash": "35348ccb32f281b8202bce7d405a0fef068f9325df425931ad55d4ae927dfb89"
   }
  }
 },
 "nbformat": 4,
 "nbformat_minor": 2
}
